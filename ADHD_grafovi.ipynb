{
 "cells": [
  {
   "cell_type": "code",
   "execution_count": 2,
   "metadata": {},
   "outputs": [],
   "source": [
    "import numpy as np\n",
    "import pandas as pd\n",
    "import seaborn as sns\n",
    "import matplotlib as plt\n",
    "import matplotlib.pyplot as plt\n",
    "%matplotlib inline\n",
    "from sklearn.model_selection import train_test_split\n",
    "from sklearn.preprocessing import StandardScaler"
   ]
  },
  {
   "cell_type": "code",
   "execution_count": 3,
   "metadata": {},
   "outputs": [
    {
     "data": {
      "text/plain": [
       "Index(['redni broj', 'grupa', 'datum rodjenja', 'datum pregleda',\n",
       "       'broj protokola', 'psihijatrijski nalaz', 'psihicki status',\n",
       "       'logopedski status', 'glu', 'fe', 'feritin', 'Hcy', 'TSH', 'FT4', 'b12',\n",
       "       'vitamin_d', 'theta_beta_ratio', 'theta mean', 'low alpha',\n",
       "       'high alpha', 'alpha mean', 'smr mean', 'beta 1 mean', 'beta 2 mean',\n",
       "       'beta 3mean', 'adhd_skor', 'adhd_(roditelj)', 'trog_II', 'arq_dtj',\n",
       "       'dyslexia_r', 'iqv', 'iqnv', 'iqt', 'dijagnoza'],\n",
       "      dtype='object')"
      ]
     },
     "execution_count": 3,
     "metadata": {},
     "output_type": "execute_result"
    }
   ],
   "source": [
    "df = pd.read_excel(\"C:/Users/vitomir.jovanovic.COP/Desktop/ADHD/baza za graf/graf_baza.xlsx\")\n",
    "df.columns"
   ]
  },
  {
   "cell_type": "code",
   "execution_count": 24,
   "metadata": {},
   "outputs": [],
   "source": [
    "#df['dijagnoza']=df['dijagnoza'].map({'ADHD':1, 'Bez dijagnoze':0, 'Disleksija':2})"
   ]
  },
  {
   "cell_type": "code",
   "execution_count": 4,
   "metadata": {},
   "outputs": [],
   "source": [
    "df=df.drop(['redni broj','grupa','datum rodjenja', 'datum pregleda', 'broj protokola', 'psihijatrijski nalaz', 'psihicki status', 'logopedski status'],axis=1)"
   ]
  },
  {
   "cell_type": "code",
   "execution_count": 125,
   "metadata": {},
   "outputs": [
    {
     "data": {
      "text/html": [
       "<div>\n",
       "<style scoped>\n",
       "    .dataframe tbody tr th:only-of-type {\n",
       "        vertical-align: middle;\n",
       "    }\n",
       "\n",
       "    .dataframe tbody tr th {\n",
       "        vertical-align: top;\n",
       "    }\n",
       "\n",
       "    .dataframe thead th {\n",
       "        text-align: right;\n",
       "    }\n",
       "</style>\n",
       "<table border=\"1\" class=\"dataframe\">\n",
       "  <thead>\n",
       "    <tr style=\"text-align: right;\">\n",
       "      <th></th>\n",
       "      <th>dijagnoza</th>\n",
       "      <th>glu</th>\n",
       "      <th>fe</th>\n",
       "      <th>feritin</th>\n",
       "      <th>Hcy</th>\n",
       "      <th>TSH</th>\n",
       "      <th>FT4</th>\n",
       "      <th>b12</th>\n",
       "      <th>vitamin_d</th>\n",
       "      <th>theta_beta_ratio</th>\n",
       "      <th>...</th>\n",
       "      <th>beta 2 mean</th>\n",
       "      <th>beta 3mean</th>\n",
       "      <th>adhd_skor</th>\n",
       "      <th>adhd_(roditelj)</th>\n",
       "      <th>trog_II</th>\n",
       "      <th>arq_dtj</th>\n",
       "      <th>dyslexia_r</th>\n",
       "      <th>iqv</th>\n",
       "      <th>iqnv</th>\n",
       "      <th>iqt</th>\n",
       "    </tr>\n",
       "  </thead>\n",
       "  <tbody>\n",
       "    <tr>\n",
       "      <th>0</th>\n",
       "      <td>ADHD</td>\n",
       "      <td>4.990735</td>\n",
       "      <td>16.807794</td>\n",
       "      <td>39.983235</td>\n",
       "      <td>8.778235</td>\n",
       "      <td>2.709015</td>\n",
       "      <td>12.634412</td>\n",
       "      <td>364.467647</td>\n",
       "      <td>64.106618</td>\n",
       "      <td>5.583824</td>\n",
       "      <td>...</td>\n",
       "      <td>5.083088</td>\n",
       "      <td>3.965147</td>\n",
       "      <td>98.823529</td>\n",
       "      <td>1.720588</td>\n",
       "      <td>6.880294</td>\n",
       "      <td>0.981176</td>\n",
       "      <td>1.705882</td>\n",
       "      <td>102.382353</td>\n",
       "      <td>105.647059</td>\n",
       "      <td>103.882353</td>\n",
       "    </tr>\n",
       "    <tr>\n",
       "      <th>1</th>\n",
       "      <td>Dyslexia</td>\n",
       "      <td>5.127778</td>\n",
       "      <td>15.215556</td>\n",
       "      <td>35.830556</td>\n",
       "      <td>7.292778</td>\n",
       "      <td>3.339194</td>\n",
       "      <td>12.793639</td>\n",
       "      <td>388.763889</td>\n",
       "      <td>58.897778</td>\n",
       "      <td>5.712222</td>\n",
       "      <td>...</td>\n",
       "      <td>4.871111</td>\n",
       "      <td>3.860278</td>\n",
       "      <td>78.194444</td>\n",
       "      <td>1.277778</td>\n",
       "      <td>6.335278</td>\n",
       "      <td>1.675833</td>\n",
       "      <td>1.305556</td>\n",
       "      <td>95.083333</td>\n",
       "      <td>106.111111</td>\n",
       "      <td>100.888889</td>\n",
       "    </tr>\n",
       "    <tr>\n",
       "      <th>2</th>\n",
       "      <td>No diagnosis</td>\n",
       "      <td>5.039394</td>\n",
       "      <td>13.745152</td>\n",
       "      <td>32.723788</td>\n",
       "      <td>6.580000</td>\n",
       "      <td>2.597530</td>\n",
       "      <td>13.459848</td>\n",
       "      <td>469.871212</td>\n",
       "      <td>64.968788</td>\n",
       "      <td>4.939545</td>\n",
       "      <td>...</td>\n",
       "      <td>5.133788</td>\n",
       "      <td>4.216061</td>\n",
       "      <td>63.151515</td>\n",
       "      <td>1.090909</td>\n",
       "      <td>8.661970</td>\n",
       "      <td>0.420909</td>\n",
       "      <td>1.954545</td>\n",
       "      <td>109.121212</td>\n",
       "      <td>111.500000</td>\n",
       "      <td>110.333333</td>\n",
       "    </tr>\n",
       "  </tbody>\n",
       "</table>\n",
       "<p>3 rows × 26 columns</p>\n",
       "</div>"
      ],
      "text/plain": [
       "      dijagnoza       glu         fe    feritin       Hcy       TSH  \\\n",
       "0          ADHD  4.990735  16.807794  39.983235  8.778235  2.709015   \n",
       "1      Dyslexia  5.127778  15.215556  35.830556  7.292778  3.339194   \n",
       "2  No diagnosis  5.039394  13.745152  32.723788  6.580000  2.597530   \n",
       "\n",
       "         FT4         b12  vitamin_d  theta_beta_ratio  ...  beta 2 mean  \\\n",
       "0  12.634412  364.467647  64.106618          5.583824  ...     5.083088   \n",
       "1  12.793639  388.763889  58.897778          5.712222  ...     4.871111   \n",
       "2  13.459848  469.871212  64.968788          4.939545  ...     5.133788   \n",
       "\n",
       "   beta 3mean  adhd_skor  adhd_(roditelj)   trog_II   arq_dtj  dyslexia_r  \\\n",
       "0    3.965147  98.823529         1.720588  6.880294  0.981176    1.705882   \n",
       "1    3.860278  78.194444         1.277778  6.335278  1.675833    1.305556   \n",
       "2    4.216061  63.151515         1.090909  8.661970  0.420909    1.954545   \n",
       "\n",
       "          iqv        iqnv         iqt  \n",
       "0  102.382353  105.647059  103.882353  \n",
       "1   95.083333  106.111111  100.888889  \n",
       "2  109.121212  111.500000  110.333333  \n",
       "\n",
       "[3 rows x 26 columns]"
      ]
     },
     "execution_count": 125,
     "metadata": {},
     "output_type": "execute_result"
    }
   ],
   "source": [
    "graf = df.groupby('dijagnoza').mean()\n",
    "graf=graf.reset_index()\n",
    "\n",
    "graf"
   ]
  },
  {
   "cell_type": "code",
   "execution_count": 6,
   "metadata": {},
   "outputs": [
    {
     "data": {
      "text/plain": [
       "Text(0.5, 1.0, 'Skor ADHD')"
      ]
     },
     "execution_count": 6,
     "metadata": {},
     "output_type": "execute_result"
    },
    {
     "data": {
      "image/png": "[encoded data removed]",
      "text/plain": [
       "<Figure size 432x288 with 1 Axes>"
      ]
     },
     "metadata": {
      "needs_background": "light"
     },
     "output_type": "display_data"
    }
   ],
   "source": [
    "plt.bar(graf['dijagnoza'], graf['adhd_skor'])\n",
    "plt.ylabel('Skor ADHD')\n",
    "plt.title('Skor ADHD')"
   ]
  },
  {
   "cell_type": "code",
   "execution_count": 22,
   "metadata": {},
   "outputs": [],
   "source": [
    "#kreiranje oznake za standardnu devijaciju za adhd skor\n",
    "adhd = df[df['dijagnoza']=='ADHD']['adhd_skor']\n",
    "adhd_std=np.std(adhd)\n",
    "\n",
    "bez = df[df['dijagnoza']=='No diagnosis']['adhd_skor']\n",
    "bez_std=np.std(bez)\n",
    "\n",
    "disleksija = df[df['dijagnoza']=='Dyslexia']['adhd_skor']\n",
    "disleksija_std=np.std(disleksija)\n",
    "\n",
    "adhd_error = [adhd_std, bez_std, disleksija_std]"
   ]
  },
  {
   "cell_type": "code",
   "execution_count": 23,
   "metadata": {},
   "outputs": [],
   "source": [
    "#kreiranje oznake za standardnu devijaciju za tb ratio\n",
    "\n",
    "tb_a = df[df['dijagnoza']=='ADHD']['theta_beta_ratio']\n",
    "tb_a_std=np.std(tb_a)\n",
    "\n",
    "tb_bez = df[df['dijagnoza']=='No diagnosis']['theta_beta_ratio']\n",
    "tb_bez_std=np.std(tb_bez)\n",
    "\n",
    "tb_d = df[df['dijagnoza']=='Dyslexia']['theta_beta_ratio']\n",
    "tb_d_std=np.std(tb_d)\n",
    "\n",
    "tb_error = [tb_a_std, tb_bez_std, tb_d_std]"
   ]
  },
  {
   "cell_type": "code",
   "execution_count": 24,
   "metadata": {},
   "outputs": [],
   "source": [
    "#kreiranje oznake za standardnu devijaciju za homocistein\n",
    "\n",
    "hcy_a = df[df['dijagnoza']=='ADHD']['Hcy']\n",
    "hcy_a_std=np.std(hcy_a)\n",
    "\n",
    "hcy_bez = df[df['dijagnoza']=='No diagnosis']['Hcy']\n",
    "hcy_bez_std=np.std(hcy_bez)\n",
    "\n",
    "hcy_d = df[df['dijagnoza']=='Dyslexia']['Hcy']\n",
    "hcy_d_std=np.std(hcy_d)\n",
    "\n",
    "hcy_error = [hcy_a_std, hcy_bez_std, hcy_d_std]"
   ]
  },
  {
   "cell_type": "code",
   "execution_count": 25,
   "metadata": {},
   "outputs": [],
   "source": [
    "#kreiranje oznake za standardnu devijaciju za b12 ratio\n",
    "\n",
    "b12_a = df[df['dijagnoza']=='ADHD']['b12']\n",
    "b12_a_std=np.std(b12_a)\n",
    "\n",
    "b12_bez = df[df['dijagnoza']=='No diagnosis']['b12']\n",
    "b12_bez_std=np.std(b12_bez)\n",
    "\n",
    "b12_d = df[df['dijagnoza']=='Dyslexia']['b12']\n",
    "b12_d_std=np.std(b12_d)\n",
    "\n",
    "b12_error = [b12_a_std, b12_bez_std, b12_d_std]"
   ]
  },
  {
   "cell_type": "code",
   "execution_count": 26,
   "metadata": {},
   "outputs": [],
   "source": [
    "#kreiranje oznake za standardnu devijaciju za feritin \n",
    "\n",
    "f_a = df[df['dijagnoza']=='ADHD']['feritin']\n",
    "f_a_std=np.std(f_a)\n",
    "\n",
    "f_bez = df[df['dijagnoza']=='No diagnosis']['feritin']\n",
    "f_bez_std=np.std(f_bez)\n",
    "\n",
    "f_d = df[df['dijagnoza']=='Dyslexia']['feritin']\n",
    "f_d_std=np.std(f_d)\n",
    "\n",
    "f_error = [f_a_std, f_bez_std, f_d_std]"
   ]
  },
  {
   "cell_type": "code",
   "execution_count": 28,
   "metadata": {},
   "outputs": [],
   "source": [
    "#kreiranje oznake za standardnu devijaciju za TSH skor\n",
    "\n",
    "tsh_a = df[df['dijagnoza']=='ADHD']['TSH']\n",
    "tsh_a_std=np.std(tsh_a)\n",
    "\n",
    "tsh_bez = df[df['dijagnoza']=='No diagnosis']['TSH']\n",
    "tsh_bez_std=np.std(tsh_bez)\n",
    "\n",
    "tsh_d = df[df['dijagnoza']=='Dyslexia']['TSH']\n",
    "tsh_d_std=np.std(tsh_d)\n",
    "\n",
    "tsh_error = [tsh_a_std, tsh_bez_std, tsh_d_std]"
   ]
  },
  {
   "cell_type": "code",
   "execution_count": 29,
   "metadata": {},
   "outputs": [],
   "source": [
    "#kreiranje oznake za standardnu devijaciju za arq disleksija skor\n",
    "\n",
    "dys_a = df[df['dijagnoza']=='ADHD']['arq_dtj']\n",
    "dys_a_std=np.std(dys_a)\n",
    "\n",
    "dys_bez = df[df['dijagnoza']=='No diagnosis']['arq_dtj']\n",
    "dys_bez_std=np.std(dys_bez)\n",
    "\n",
    "dys_d = df[df['dijagnoza']=='Dyslexia']['arq_dtj']\n",
    "dys_d_std=np.std(dys_d)\n",
    "\n",
    "dys_error = [dys_a_std, dys_bez_std, dys_d_std]"
   ]
  },
  {
   "cell_type": "code",
   "execution_count": 30,
   "metadata": {},
   "outputs": [],
   "source": [
    "#kreiranje oznake za standardnu devijaciju za vitamin d\n",
    "\n",
    "vd_a = df[df['dijagnoza']=='ADHD']['vitamin_d']\n",
    "vd_a_std=np.std(vd_a)\n",
    "\n",
    "vd_bez = df[df['dijagnoza']=='No diagnosis']['vitamin_d']\n",
    "vd_bez_std=np.std(vd_bez)\n",
    "\n",
    "vd_d = df[df['dijagnoza']=='Dyslexia']['vitamin_d']\n",
    "vd_d_std=np.std(vd_d)\n",
    "\n",
    "vd_error = [vd_a_std, vd_bez_std, vd_d_std]"
   ]
  },
  {
   "cell_type": "code",
   "execution_count": 31,
   "metadata": {},
   "outputs": [],
   "source": [
    "#kreiranje oznake za standardnu devijaciju za iq total\n",
    "\n",
    "iq_a = df[df['dijagnoza']=='ADHD']['iqt']\n",
    "iq_a_std=np.std(iq_a)\n",
    "\n",
    "iq_bez = df[df['dijagnoza']=='No diagnosis']['iqt']\n",
    "iq_bez_std=np.std(iq_bez)\n",
    "\n",
    "iq_d = df[df['dijagnoza']=='Dyslexia']['iqt']\n",
    "iq_d_std=np.std(iq_d)\n",
    "\n",
    "iq_error = [iq_a_std, iq_bez_std, iq_d_std]"
   ]
  },
  {
   "cell_type": "code",
   "execution_count": 218,
   "metadata": {},
   "outputs": [
    {
     "data": {
      "text/plain": [
       "[11.205998146692146, 13.252024811935783, 9.439214238065514]"
      ]
     },
     "execution_count": 218,
     "metadata": {},
     "output_type": "execute_result"
    }
   ],
   "source": [
    "iq_error"
   ]
  },
  {
   "cell_type": "code",
   "execution_count": 123,
   "metadata": {},
   "outputs": [
    {
     "data": {
      "text/plain": [
       "dijagnoza\n",
       "ADHD            103.882353\n",
       "Dyslexia        100.888889\n",
       "No diagnosis    110.333333\n",
       "Name: iqt, dtype: float64"
      ]
     },
     "execution_count": 123,
     "metadata": {},
     "output_type": "execute_result"
    }
   ],
   "source": [
    "graf = df.groupby('dijagnoza').mean()\n",
    "graf['iqt']"
   ]
  },
  {
   "cell_type": "code",
   "execution_count": 162,
   "metadata": {},
   "outputs": [
    {
     "data": {
      "text/plain": [
       "Index(['redni broj', 'grupa', 'datum rodjenja', 'datum pregleda',\n",
       "       'broj protokola', 'psihijatrijski nalaz', 'psihicki status',\n",
       "       'logopedski status', 'glu', 'fe', 'feritin', 'Hcy', 'TSH', 'FT4', 'b12',\n",
       "       'vitamin_d', 'theta_beta_ratio', 'theta mean', 'low alpha',\n",
       "       'high alpha', 'alpha mean', 'smr mean', 'beta 1 mean', 'beta 2 mean',\n",
       "       'beta 3mean', 'adhd_skor', 'adhd_(roditelj)', 'trog_II', 'arq_dtj',\n",
       "       'dyslexia_r', 'iqv', 'iqnv', 'iqt', 'dijagnoza'],\n",
       "      dtype='object')"
      ]
     },
     "execution_count": 162,
     "metadata": {},
     "output_type": "execute_result"
    }
   ],
   "source": [
    "df.columns"
   ]
  },
  {
   "cell_type": "code",
   "execution_count": 126,
   "metadata": {},
   "outputs": [
    {
     "data": {
      "image/png": "[encoded data removed]",
      "text/plain": [
       "<Figure size 1152x720 with 9 Axes>"
      ]
     },
     "metadata": {
      "needs_background": "light"
     },
     "output_type": "display_data"
    }
   ],
   "source": [
    "fig, axs = plt.subplots(3, 3, figsize=(16, 10))\n",
    "\n",
    "# adhd skor\n",
    "axs[0, 0].bar(graf['dijagnoza'], graf['adhd_skor'], yerr = adhd_error, ecolor='red', align='center', capsize=10)\n",
    "axs[0, 0].set_title('ADHDT score (Gillian, 1995)')\n",
    "axs[0, 0].set_ylim([40, 120])\n",
    "axs[0, 0].yaxis.grid(True, color='black', linestyle='dashdot', linewidth=0.5)\n",
    "\n",
    "axs[0, 1].bar(graf['dijagnoza'], graf['Hcy'], yerr = hcy_error, ecolor='red', align='center', capsize=10)\n",
    "axs[0, 1].set_title('Homocysteine')\n",
    "axs[0, 1].set_ylim([3, 12])\n",
    "axs[0, 1].yaxis.grid(True, color='black', linestyle='dashdot', linewidth=0.5)\n",
    "\n",
    "axs[0, 2].bar(graf['dijagnoza'], graf['theta_beta_ratio'], yerr=tb_error, ecolor='red', align='center', capsize=10)\n",
    "axs[0, 2].set_title('Theta/beta ratio')\n",
    "axs[0, 2].set_ylim([3, 8])\n",
    "axs[0, 2].yaxis.grid(True, color='black', linestyle='dashdot', linewidth=0.5)\n",
    "\n",
    "axs[1, 0].bar(graf['dijagnoza'], graf['b12'], yerr=b12_error, ecolor='red', align='center', capsize=10)\n",
    "axs[1, 0].set_title('Vitamin b12')\n",
    "axs[1, 0].set_ylim([100, 800])\n",
    "axs[1, 0].yaxis.grid(True, color='black', linestyle='dashdot', linewidth=0.5)\n",
    "\n",
    "axs[1, 1].bar(graf['dijagnoza'], graf['feritin'], yerr=f_error, ecolor='red', align='center', capsize=10)\n",
    "axs[1, 1].set_title('Feritin')\n",
    "axs[1, 1].set_ylim([10, 60])\n",
    "axs[1, 1].yaxis.grid(True, color='black', linestyle='dashdot', linewidth=0.5)\n",
    "\n",
    "axs[1, 2].bar(graf['dijagnoza'], graf['TSH'], yerr=tsh_error, ecolor='red', align='center', capsize=10)\n",
    "axs[1, 2].set_title('Thyroid-stimulating hormone')\n",
    "axs[1, 2].set_ylim([1, 6])\n",
    "axs[1, 2].yaxis.grid(True, color='black', linestyle='dashdot', linewidth=0.5)\n",
    "\n",
    "axs[2, 0].bar(graf['dijagnoza'], graf['arq_dtj'], yerr=dys_error, ecolor='red', align='center', capsize=10)\n",
    "axs[2, 0].set_title('Dyslexia score (ARQ DST-J)')\n",
    "axs[2, 0].set_ylim([0, 2.5])\n",
    "axs[2, 0].yaxis.grid(True, color='black', linestyle='dashdot', linewidth=0.5)\n",
    "\n",
    "axs[2, 1].bar(graf['dijagnoza'], graf['vitamin_d'], yerr=vd_error, ecolor='red', align='center', capsize=10)\n",
    "axs[2, 1].set_title('Vitamin D')\n",
    "axs[2, 1].set_ylim([30, 90])\n",
    "axs[2, 1].yaxis.grid(True, color='black', linestyle='dashdot', linewidth=0.5)\n",
    "\n",
    "axs[2, 2].bar(graf['dijagnoza'], graf['iqt'], yerr=iq_error, ecolor='red', align='center', capsize=10)\n",
    "axs[2, 2].set_title('IQ total (REVISK)')\n",
    "axs[2, 2].set_ylim([60, 130])\n",
    "axs[2, 2].yaxis.grid(True, color='black', linestyle='dashdot', linewidth=0.5)\n",
    "\n",
    "plt.tight_layout()\n",
    "\n",
    "\n",
    "plt.savefig('C:/Users/vitomir.jovanovic.COP/Desktop/ADHD/baza za graf/izvorne_vrednosti.png', dpi=500)"
   ]
  },
  {
   "cell_type": "code",
   "execution_count": 115,
   "metadata": {},
   "outputs": [
    {
     "data": {
      "text/plain": [
       "dijagnoza\n",
       "ADHD             98.823529\n",
       "Bez dijagnoze    63.151515\n",
       "Disleksija       78.194444\n",
       "Name: adhd_skor, dtype: float64"
      ]
     },
     "execution_count": 115,
     "metadata": {},
     "output_type": "execute_result"
    }
   ],
   "source": [
    "grupisano = df.groupby('dijagnoza')['adhd_skor'].mean()\n",
    "grupisano.head()"
   ]
  },
  {
   "cell_type": "code",
   "execution_count": 243,
   "metadata": {},
   "outputs": [
    {
     "data": {
      "text/html": [
       "<div>\n",
       "<style scoped>\n",
       "    .dataframe tbody tr th:only-of-type {\n",
       "        vertical-align: middle;\n",
       "    }\n",
       "\n",
       "    .dataframe tbody tr th {\n",
       "        vertical-align: top;\n",
       "    }\n",
       "\n",
       "    .dataframe thead th {\n",
       "        text-align: right;\n",
       "    }\n",
       "</style>\n",
       "<table border=\"1\" class=\"dataframe\">\n",
       "  <thead>\n",
       "    <tr style=\"text-align: right;\">\n",
       "      <th></th>\n",
       "      <th>Unnamed: 0</th>\n",
       "      <th>redni broj</th>\n",
       "      <th>glu</th>\n",
       "      <th>fe</th>\n",
       "      <th>feritin</th>\n",
       "      <th>Hcy</th>\n",
       "      <th>TSH</th>\n",
       "      <th>FT4</th>\n",
       "      <th>b12</th>\n",
       "      <th>vitamin_d</th>\n",
       "      <th>...</th>\n",
       "      <th>beta 3mean</th>\n",
       "      <th>adhd_skor</th>\n",
       "      <th>adhd_(roditelj)</th>\n",
       "      <th>trog_II</th>\n",
       "      <th>arq_dtj</th>\n",
       "      <th>dyslexia_r</th>\n",
       "      <th>iqv</th>\n",
       "      <th>iqnv</th>\n",
       "      <th>iqt</th>\n",
       "      <th>dijagnoza</th>\n",
       "    </tr>\n",
       "  </thead>\n",
       "  <tbody>\n",
       "    <tr>\n",
       "      <th>0</th>\n",
       "      <td>0</td>\n",
       "      <td>-1.679336</td>\n",
       "      <td>-0.664654</td>\n",
       "      <td>0.955543</td>\n",
       "      <td>1.351584</td>\n",
       "      <td>-0.325070</td>\n",
       "      <td>1.256630</td>\n",
       "      <td>-0.752345</td>\n",
       "      <td>-0.824504</td>\n",
       "      <td>0.118401</td>\n",
       "      <td>...</td>\n",
       "      <td>-0.975940</td>\n",
       "      <td>0.272942</td>\n",
       "      <td>1.073366</td>\n",
       "      <td>0.479198</td>\n",
       "      <td>-0.855480</td>\n",
       "      <td>0.455200</td>\n",
       "      <td>0.314564</td>\n",
       "      <td>0.247007</td>\n",
       "      <td>0.310903</td>\n",
       "      <td>1</td>\n",
       "    </tr>\n",
       "    <tr>\n",
       "      <th>1</th>\n",
       "      <td>1</td>\n",
       "      <td>-1.659832</td>\n",
       "      <td>-0.453453</td>\n",
       "      <td>0.663070</td>\n",
       "      <td>1.351584</td>\n",
       "      <td>2.076703</td>\n",
       "      <td>1.995827</td>\n",
       "      <td>0.852627</td>\n",
       "      <td>-0.550356</td>\n",
       "      <td>1.313506</td>\n",
       "      <td>...</td>\n",
       "      <td>-0.853754</td>\n",
       "      <td>0.202472</td>\n",
       "      <td>-0.747280</td>\n",
       "      <td>-0.871041</td>\n",
       "      <td>-0.678575</td>\n",
       "      <td>0.455200</td>\n",
       "      <td>-1.588110</td>\n",
       "      <td>-0.607159</td>\n",
       "      <td>-1.267165</td>\n",
       "      <td>1</td>\n",
       "    </tr>\n",
       "    <tr>\n",
       "      <th>2</th>\n",
       "      <td>2</td>\n",
       "      <td>-1.640329</td>\n",
       "      <td>-0.242251</td>\n",
       "      <td>2.690883</td>\n",
       "      <td>0.033790</td>\n",
       "      <td>-0.925514</td>\n",
       "      <td>-0.726197</td>\n",
       "      <td>-0.004824</td>\n",
       "      <td>-0.598735</td>\n",
       "      <td>0.619406</td>\n",
       "      <td>...</td>\n",
       "      <td>-0.792661</td>\n",
       "      <td>0.731002</td>\n",
       "      <td>1.073366</td>\n",
       "      <td>-0.410329</td>\n",
       "      <td>-0.501670</td>\n",
       "      <td>0.455200</td>\n",
       "      <td>1.046361</td>\n",
       "      <td>0.958812</td>\n",
       "      <td>1.099937</td>\n",
       "      <td>1</td>\n",
       "    </tr>\n",
       "    <tr>\n",
       "      <th>3</th>\n",
       "      <td>3</td>\n",
       "      <td>-1.620825</td>\n",
       "      <td>0.602555</td>\n",
       "      <td>-0.077862</td>\n",
       "      <td>-0.137352</td>\n",
       "      <td>0.548302</td>\n",
       "      <td>-0.828305</td>\n",
       "      <td>-1.077736</td>\n",
       "      <td>-1.050274</td>\n",
       "      <td>2.623425</td>\n",
       "      <td>...</td>\n",
       "      <td>0.588044</td>\n",
       "      <td>0.343413</td>\n",
       "      <td>-0.747280</td>\n",
       "      <td>1.857788</td>\n",
       "      <td>0.933224</td>\n",
       "      <td>-2.196836</td>\n",
       "      <td>-0.344054</td>\n",
       "      <td>1.243534</td>\n",
       "      <td>1.257744</td>\n",
       "      <td>1</td>\n",
       "    </tr>\n",
       "    <tr>\n",
       "      <th>4</th>\n",
       "      <td>4</td>\n",
       "      <td>-1.581818</td>\n",
       "      <td>-1.087058</td>\n",
       "      <td>1.072532</td>\n",
       "      <td>0.501578</td>\n",
       "      <td>0.657473</td>\n",
       "      <td>-0.537689</td>\n",
       "      <td>0.553618</td>\n",
       "      <td>-1.077151</td>\n",
       "      <td>2.028482</td>\n",
       "      <td>...</td>\n",
       "      <td>-0.169511</td>\n",
       "      <td>0.343413</td>\n",
       "      <td>1.073366</td>\n",
       "      <td>-1.331752</td>\n",
       "      <td>-0.147861</td>\n",
       "      <td>0.455200</td>\n",
       "      <td>-1.149031</td>\n",
       "      <td>-1.318964</td>\n",
       "      <td>-1.346068</td>\n",
       "      <td>1</td>\n",
       "    </tr>\n",
       "  </tbody>\n",
       "</table>\n",
       "<p>5 rows × 28 columns</p>\n",
       "</div>"
      ],
      "text/plain": [
       "   Unnamed: 0  redni broj       glu        fe   feritin       Hcy       TSH  \\\n",
       "0           0   -1.679336 -0.664654  0.955543  1.351584 -0.325070  1.256630   \n",
       "1           1   -1.659832 -0.453453  0.663070  1.351584  2.076703  1.995827   \n",
       "2           2   -1.640329 -0.242251  2.690883  0.033790 -0.925514 -0.726197   \n",
       "3           3   -1.620825  0.602555 -0.077862 -0.137352  0.548302 -0.828305   \n",
       "4           4   -1.581818 -1.087058  1.072532  0.501578  0.657473 -0.537689   \n",
       "\n",
       "        FT4       b12  vitamin_d  ...  beta 3mean  adhd_skor  adhd_(roditelj)  \\\n",
       "0 -0.752345 -0.824504   0.118401  ...   -0.975940   0.272942         1.073366   \n",
       "1  0.852627 -0.550356   1.313506  ...   -0.853754   0.202472        -0.747280   \n",
       "2 -0.004824 -0.598735   0.619406  ...   -0.792661   0.731002         1.073366   \n",
       "3 -1.077736 -1.050274   2.623425  ...    0.588044   0.343413        -0.747280   \n",
       "4  0.553618 -1.077151   2.028482  ...   -0.169511   0.343413         1.073366   \n",
       "\n",
       "    trog_II   arq_dtj  dyslexia_r       iqv      iqnv       iqt  dijagnoza  \n",
       "0  0.479198 -0.855480    0.455200  0.314564  0.247007  0.310903          1  \n",
       "1 -0.871041 -0.678575    0.455200 -1.588110 -0.607159 -1.267165          1  \n",
       "2 -0.410329 -0.501670    0.455200  1.046361  0.958812  1.099937          1  \n",
       "3  1.857788  0.933224   -2.196836 -0.344054  1.243534  1.257744          1  \n",
       "4 -1.331752 -0.147861    0.455200 -1.149031 -1.318964 -1.346068          1  \n",
       "\n",
       "[5 rows x 28 columns]"
      ]
     },
     "execution_count": 243,
     "metadata": {},
     "output_type": "execute_result"
    }
   ],
   "source": [
    "df_st = pd.read_excel(\"C:/Users/vitomir.jovanovic.COP/Desktop/ADHD/standardizovana.xlsx\")\n",
    "df_st.head()"
   ]
  },
  {
   "cell_type": "code",
   "execution_count": null,
   "metadata": {},
   "outputs": [],
   "source": [
    "#Graf sa standardizovanim skorovima"
   ]
  },
  {
   "cell_type": "code",
   "execution_count": 55,
   "metadata": {},
   "outputs": [
    {
     "data": {
      "text/plain": [
       "StandardScaler(copy=True, with_mean=True, with_std=True)"
      ]
     },
     "execution_count": 55,
     "metadata": {},
     "output_type": "execute_result"
    }
   ],
   "source": [
    "#Standardizovanje prediktora\n",
    "scaler = StandardScaler()\n",
    "scaler.fit(df.drop('dijagnoza',axis=1))"
   ]
  },
  {
   "cell_type": "code",
   "execution_count": 57,
   "metadata": {
    "scrolled": true
   },
   "outputs": [
    {
     "data": {
      "text/plain": [
       "array([[-7.38411730e-01,  9.16006873e-01,  1.41370141e+00, ...,\n",
       "         4.73640136e-01,  2.84706185e-01,  4.25826547e-01],\n",
       "       [-5.20364146e-01,  6.36646304e-01,  1.41370141e+00, ...,\n",
       "        -1.40730272e+00, -5.73197239e-01, -1.19727912e+00],\n",
       "       [-3.02316562e-01,  2.57354625e+00,  4.24165944e-02, ...,\n",
       "         1.19707970e+00,  9.99625706e-01,  1.23737938e+00],\n",
       "       ...,\n",
       "       [-9.56459314e-01,  6.83206399e-01, -6.82405379e-01, ...,\n",
       "        -9.73238985e-01, -1.28811676e+00, -1.27843441e+00],\n",
       "       [-7.38411730e-01, -1.26939252e-01, -3.96869450e-01, ...,\n",
       "         1.84264312e-01, -1.26162268e-03,  1.01205412e-01],\n",
       "       [ 1.00596894e+00, -3.13179631e-01,  1.03377834e+00, ...,\n",
       "         1.05239178e+00, -2.87229431e-01,  6.69292397e-01]])"
      ]
     },
     "execution_count": 57,
     "metadata": {},
     "output_type": "execute_result"
    }
   ],
   "source": [
    "scaled_features = scaler.fit_transform(df.drop('dijagnoza',axis=1))"
   ]
  },
  {
   "cell_type": "code",
   "execution_count": 59,
   "metadata": {},
   "outputs": [],
   "source": [
    "#dodajemo imena kolona iz stare baze u novu bazu sa standardizovanim varijablama\n",
    "df_feat = pd.DataFrame(scaled_features,columns=df.columns[:-1])"
   ]
  },
  {
   "cell_type": "code",
   "execution_count": 62,
   "metadata": {},
   "outputs": [],
   "source": [
    "dijagnoza = df['dijagnoza']"
   ]
  },
  {
   "cell_type": "code",
   "execution_count": 61,
   "metadata": {},
   "outputs": [],
   "source": [
    "#dodajemo kategoricku varijablu dijagnoza\n",
    "df_feat['dijagnoza'] = pd.Series(dijagnoza, index=df_feat.index)"
   ]
  },
  {
   "cell_type": "code",
   "execution_count": 63,
   "metadata": {},
   "outputs": [],
   "source": [
    "df_feat.to_excel('C:/Users/vitomir.jovanovic.COP/Desktop/ADHD/standardizovana.xlsx',sheet_name='Sheet1')"
   ]
  },
  {
   "cell_type": "code",
   "execution_count": 112,
   "metadata": {},
   "outputs": [
    {
     "data": {
      "text/html": [
       "<div>\n",
       "<style scoped>\n",
       "    .dataframe tbody tr th:only-of-type {\n",
       "        vertical-align: middle;\n",
       "    }\n",
       "\n",
       "    .dataframe tbody tr th {\n",
       "        vertical-align: top;\n",
       "    }\n",
       "\n",
       "    .dataframe thead th {\n",
       "        text-align: right;\n",
       "    }\n",
       "</style>\n",
       "<table border=\"1\" class=\"dataframe\">\n",
       "  <thead>\n",
       "    <tr style=\"text-align: right;\">\n",
       "      <th></th>\n",
       "      <th>dijagnoza</th>\n",
       "      <th>glu</th>\n",
       "      <th>fe</th>\n",
       "      <th>feritin</th>\n",
       "      <th>Hcy</th>\n",
       "      <th>TSH</th>\n",
       "      <th>FT4</th>\n",
       "      <th>b12</th>\n",
       "      <th>vitamin_d</th>\n",
       "      <th>theta_beta_ratio</th>\n",
       "      <th>...</th>\n",
       "      <th>beta 2 mean</th>\n",
       "      <th>beta 3mean</th>\n",
       "      <th>adhd_skor</th>\n",
       "      <th>adhd_(roditelj)</th>\n",
       "      <th>trog_II</th>\n",
       "      <th>arq_dtj</th>\n",
       "      <th>dyslexia_r</th>\n",
       "      <th>iqv</th>\n",
       "      <th>iqnv</th>\n",
       "      <th>iqt</th>\n",
       "    </tr>\n",
       "  </thead>\n",
       "  <tbody>\n",
       "    <tr>\n",
       "      <th>0</th>\n",
       "      <td>ADHD</td>\n",
       "      <td>-0.104470</td>\n",
       "      <td>0.284241</td>\n",
       "      <td>0.219510</td>\n",
       "      <td>0.651737</td>\n",
       "      <td>-0.067330</td>\n",
       "      <td>-0.164482</td>\n",
       "      <td>-0.248659</td>\n",
       "      <td>0.040240</td>\n",
       "      <td>0.161326</td>\n",
       "      <td>...</td>\n",
       "      <td>0.021959</td>\n",
       "      <td>-0.091756</td>\n",
       "      <td>0.698909</td>\n",
       "      <td>0.610701</td>\n",
       "      <td>-0.206169</td>\n",
       "      <td>0.108379</td>\n",
       "      <td>-0.026135</td>\n",
       "      <td>-0.077451</td>\n",
       "      <td>-0.169478</td>\n",
       "      <td>-0.151808</td>\n",
       "    </tr>\n",
       "    <tr>\n",
       "      <th>1</th>\n",
       "      <td>Dyslexia</td>\n",
       "      <td>0.194347</td>\n",
       "      <td>-0.012298</td>\n",
       "      <td>-0.027005</td>\n",
       "      <td>-0.177139</td>\n",
       "      <td>0.403237</td>\n",
       "      <td>-0.090537</td>\n",
       "      <td>-0.117512</td>\n",
       "      <td>-0.232567</td>\n",
       "      <td>0.254238</td>\n",
       "      <td>...</td>\n",
       "      <td>-0.162712</td>\n",
       "      <td>-0.219704</td>\n",
       "      <td>-0.092513</td>\n",
       "      <td>-0.188816</td>\n",
       "      <td>-0.401149</td>\n",
       "      <td>1.177609</td>\n",
       "      <td>-0.915466</td>\n",
       "      <td>-0.605491</td>\n",
       "      <td>-0.136302</td>\n",
       "      <td>-0.394744</td>\n",
       "    </tr>\n",
       "    <tr>\n",
       "      <th>2</th>\n",
       "      <td>No diagnosis</td>\n",
       "      <td>0.001629</td>\n",
       "      <td>-0.286147</td>\n",
       "      <td>-0.211432</td>\n",
       "      <td>-0.574865</td>\n",
       "      <td>-0.150577</td>\n",
       "      <td>0.218850</td>\n",
       "      <td>0.320291</td>\n",
       "      <td>0.085395</td>\n",
       "      <td>-0.304890</td>\n",
       "      <td>...</td>\n",
       "      <td>0.066128</td>\n",
       "      <td>0.214376</td>\n",
       "      <td>-0.669627</td>\n",
       "      <td>-0.526216</td>\n",
       "      <td>0.431226</td>\n",
       "      <td>-0.753996</td>\n",
       "      <td>0.526272</td>\n",
       "      <td>0.410065</td>\n",
       "      <td>0.248960</td>\n",
       "      <td>0.371723</td>\n",
       "    </tr>\n",
       "  </tbody>\n",
       "</table>\n",
       "<p>3 rows × 26 columns</p>\n",
       "</div>"
      ],
      "text/plain": [
       "      dijagnoza       glu        fe   feritin       Hcy       TSH       FT4  \\\n",
       "0          ADHD -0.104470  0.284241  0.219510  0.651737 -0.067330 -0.164482   \n",
       "1      Dyslexia  0.194347 -0.012298 -0.027005 -0.177139  0.403237 -0.090537   \n",
       "2  No diagnosis  0.001629 -0.286147 -0.211432 -0.574865 -0.150577  0.218850   \n",
       "\n",
       "        b12  vitamin_d  theta_beta_ratio  ...  beta 2 mean  beta 3mean  \\\n",
       "0 -0.248659   0.040240          0.161326  ...     0.021959   -0.091756   \n",
       "1 -0.117512  -0.232567          0.254238  ...    -0.162712   -0.219704   \n",
       "2  0.320291   0.085395         -0.304890  ...     0.066128    0.214376   \n",
       "\n",
       "   adhd_skor  adhd_(roditelj)   trog_II   arq_dtj  dyslexia_r       iqv  \\\n",
       "0   0.698909         0.610701 -0.206169  0.108379   -0.026135 -0.077451   \n",
       "1  -0.092513        -0.188816 -0.401149  1.177609   -0.915466 -0.605491   \n",
       "2  -0.669627        -0.526216  0.431226 -0.753996    0.526272  0.410065   \n",
       "\n",
       "       iqnv       iqt  \n",
       "0 -0.169478 -0.151808  \n",
       "1 -0.136302 -0.394744  \n",
       "2  0.248960  0.371723  \n",
       "\n",
       "[3 rows x 26 columns]"
      ]
     },
     "execution_count": 112,
     "metadata": {},
     "output_type": "execute_result"
    }
   ],
   "source": [
    "graf_s = df_feat.groupby('dijagnoza').mean()\n",
    "graf_s=graf_s.reset_index()\n",
    "\n",
    "graf_s"
   ]
  },
  {
   "cell_type": "code",
   "execution_count": 66,
   "metadata": {},
   "outputs": [
    {
     "data": {
      "text/plain": [
       "Text(0.5, 1.0, 'Skor ADHD')"
      ]
     },
     "execution_count": 66,
     "metadata": {},
     "output_type": "execute_result"
    },
    {
     "data": {
      "image/png": "[encoded data removed]",
      "text/plain": [
       "<Figure size 432x288 with 1 Axes>"
      ]
     },
     "metadata": {
      "needs_background": "light"
     },
     "output_type": "display_data"
    }
   ],
   "source": [
    "plt.bar(graf_s['dijagnoza'], graf_s['adhd_skor'])\n",
    "plt.ylabel('Skor ADHD')\n",
    "plt.title('Skor ADHD')"
   ]
  },
  {
   "cell_type": "code",
   "execution_count": 109,
   "metadata": {},
   "outputs": [],
   "source": [
    "#kreiranje oznake za standardnu devijaciju za adhd skor\n",
    "adhds = df_feat[df_feat['dijagnoza']=='ADHD']['adhd_skor']\n",
    "adhd_stds=np.std(adhds)\n",
    "\n",
    "bezs = df_feat[df_feat['dijagnoza']=='No diagnosis']['adhd_skor']\n",
    "bez_stds=np.std(bezs)\n",
    "\n",
    "disleksijas = df_feat[df_feat['dijagnoza']=='Dyslexia']['adhd_skor']\n",
    "disleksija_stds=np.std(disleksijas)\n",
    "\n",
    "adhds_error = [adhd_stds, disleksija_stds, bez_stds]"
   ]
  },
  {
   "cell_type": "code",
   "execution_count": 81,
   "metadata": {},
   "outputs": [],
   "source": [
    "#kreiranje oznake za standardnu devijaciju za tb ratio\n",
    "\n",
    "tb_as = df_feat[df_feat['dijagnoza']=='ADHD']['theta_beta_ratio']\n",
    "tb_a_stds=np.std(tb_as)\n",
    "\n",
    "tb_bezs = df_feat[df_feat['dijagnoza']=='No diagnosis']['theta_beta_ratio']\n",
    "tb_bez_stds=np.std(tb_bezs)\n",
    "\n",
    "tb_ds = df_feat[df_feat['dijagnoza']=='Dyslexia']['theta_beta_ratio']\n",
    "tb_d_stds=np.std(tb_ds)\n",
    "\n",
    "tb_errors = [tb_a_stds, tb_d_stds, tb_bez_stds]"
   ]
  },
  {
   "cell_type": "code",
   "execution_count": 82,
   "metadata": {},
   "outputs": [],
   "source": [
    "#kreiranje oznake za standardnu devijaciju za homocistein\n",
    "\n",
    "hcy_as = df_feat[df_feat['dijagnoza']=='ADHD']['Hcy']\n",
    "hcy_a_stds=np.std(hcy_as)\n",
    "\n",
    "hcy_bezs = df_feat[df_feat['dijagnoza']=='No diagnosis']['Hcy']\n",
    "hcy_bez_stds=np.std(hcy_bezs)\n",
    "\n",
    "hcy_ds = df_feat[df_feat['dijagnoza']=='Dyslexia']['Hcy']\n",
    "hcy_d_stds=np.std(hcy_ds)\n",
    "\n",
    "hcy_errors = [hcy_a_stds, hcy_d_stds, hcy_bez_stds]"
   ]
  },
  {
   "cell_type": "code",
   "execution_count": 83,
   "metadata": {},
   "outputs": [],
   "source": [
    "#kreiranje oznake za standardnu devijaciju za b12 ratio\n",
    "\n",
    "b12_as = df_feat[df_feat['dijagnoza']=='ADHD']['b12']\n",
    "b12_a_stds=np.std(b12_as)\n",
    "\n",
    "b12_bezs = df_feat[df_feat['dijagnoza']=='No diagnosis']['b12']\n",
    "b12_bez_stds=np.std(b12_bezs)\n",
    "\n",
    "b12_ds = df_feat[df_feat['dijagnoza']=='Dyslexia']['b12']\n",
    "b12_d_stds=np.std(b12_ds)\n",
    "\n",
    "b12_errors = [b12_a_stds, b12_d_stds, b12_bez_stds]"
   ]
  },
  {
   "cell_type": "code",
   "execution_count": 84,
   "metadata": {},
   "outputs": [],
   "source": [
    "#kreiranje oznake za standardnu devijaciju za feritin \n",
    "\n",
    "f_as = df_feat[df_feat['dijagnoza']=='ADHD']['feritin']\n",
    "f_a_stds=np.std(f_as)\n",
    "\n",
    "f_bezs = df_feat[df_feat['dijagnoza']=='No diagnosis']['feritin']\n",
    "f_bez_stds=np.std(f_bezs)\n",
    "\n",
    "f_ds = df_feat[df_feat['dijagnoza']=='Dyslexia']['feritin']\n",
    "f_d_stds=np.std(f_ds)\n",
    "\n",
    "f_errors = [f_a_stds, f_d_stds, f_bez_stds]"
   ]
  },
  {
   "cell_type": "code",
   "execution_count": 85,
   "metadata": {},
   "outputs": [],
   "source": [
    "#kreiranje oznake za standardnu devijaciju za TSH\n",
    "\n",
    "tsh_as = df_feat[df_feat['dijagnoza']=='ADHD']['TSH']\n",
    "tsh_a_stds=np.std(tsh_as)\n",
    "\n",
    "tsh_bezs = df_feat[df_feat['dijagnoza']=='No diagnosis']['TSH']\n",
    "tsh_bez_stds=np.std(tsh_bezs)\n",
    "\n",
    "tsh_ds = df_feat[df_feat['dijagnoza']=='Dyslexia']['TSH']\n",
    "tsh_d_stds=np.std(tsh_ds)\n",
    "\n",
    "tsh_errors = [tsh_a_stds, tsh_d_stds, tsh_bez_stds]"
   ]
  },
  {
   "cell_type": "code",
   "execution_count": 86,
   "metadata": {},
   "outputs": [],
   "source": [
    "#kreiranje oznake za standardnu devijaciju za arq disleksija skor\n",
    "\n",
    "dys_as = df_feat[df_feat['dijagnoza']=='ADHD']['arq_dtj']\n",
    "dys_a_stds=np.std(dys_as)\n",
    "\n",
    "dys_bezs = df_feat[df_feat['dijagnoza']=='No diagnosis']['arq_dtj']\n",
    "dys_bez_stds=np.std(dys_bezs)\n",
    "\n",
    "dys_ds = df_feat[df_feat['dijagnoza']=='Dyslexia']['arq_dtj']\n",
    "dys_d_stds=np.std(dys_ds)\n",
    "\n",
    "dys_errors = [dys_a_stds, dys_d_stds, dys_bez_stds]"
   ]
  },
  {
   "cell_type": "code",
   "execution_count": 87,
   "metadata": {},
   "outputs": [],
   "source": [
    "#kreiranje oznake za standardnu devijaciju za vitamin d\n",
    "\n",
    "vd_as = df_feat[df_feat['dijagnoza']=='ADHD']['vitamin_d']\n",
    "vd_a_stds=np.std(vd_as)\n",
    "\n",
    "vd_bezs = df_feat[df_feat['dijagnoza']=='No diagnosis']['vitamin_d']\n",
    "vd_bez_stds=np.std(vd_bezs)\n",
    "\n",
    "vd_ds = df_feat[df_feat['dijagnoza']=='Dyslexia']['vitamin_d']\n",
    "vd_d_stds=np.std(vd_ds)\n",
    "\n",
    "vd_errors = [vd_a_stds, vd_d_stds, vd_bez_stds]"
   ]
  },
  {
   "cell_type": "code",
   "execution_count": 88,
   "metadata": {},
   "outputs": [],
   "source": [
    "#kreiranje oznake za standardnu devijaciju za iq total\n",
    "\n",
    "iq_as = df_feat[df_feat['dijagnoza']=='ADHD']['iqt']\n",
    "iq_a_stds=np.std(iq_as)\n",
    "\n",
    "iq_bezs = df_feat[df_feat['dijagnoza']=='No diagnosis']['iqt']\n",
    "iq_bez_stds=np.std(iq_bezs)\n",
    "\n",
    "iq_ds = df_feat[df_feat['dijagnoza']=='Dyslexia']['iqt']\n",
    "iq_d_stds=np.std(iq_ds)\n",
    "\n",
    "iq_errors = [iq_a_stds, iq_d_stds, iq_bez_stds]"
   ]
  },
  {
   "cell_type": "code",
   "execution_count": 111,
   "metadata": {},
   "outputs": [
    {
     "data": {
      "text/plain": [
       "dijagnoza\n",
       "ADHD            0.611031\n",
       "Dyslexia        0.554273\n",
       "No diagnosis    1.045971\n",
       "Name: adhd_skor, dtype: float64"
      ]
     },
     "execution_count": 111,
     "metadata": {},
     "output_type": "execute_result"
    }
   ],
   "source": [
    "graf_std = df_feat.groupby('dijagnoza').std()\n",
    "graf_std['adhd_skor']\n"
   ]
  },
  {
   "cell_type": "code",
   "execution_count": 110,
   "metadata": {},
   "outputs": [
    {
     "data": {
      "text/plain": [
       "[0.6065212107834203, 0.5465204810787806, 1.038016576770828]"
      ]
     },
     "execution_count": 110,
     "metadata": {},
     "output_type": "execute_result"
    }
   ],
   "source": [
    "adhds_error"
   ]
  },
  {
   "cell_type": "code",
   "execution_count": 121,
   "metadata": {},
   "outputs": [
    {
     "data": {
      "image/png": "[encoded data removed]",
      "text/plain": [
       "<Figure size 1152x720 with 9 Axes>"
      ]
     },
     "metadata": {
      "needs_background": "light"
     },
     "output_type": "display_data"
    }
   ],
   "source": [
    "fig, axs = plt.subplots(3, 3, figsize=(16, 10))\n",
    "\n",
    "# adhd skor\n",
    "axs[0, 0].bar(graf_s['dijagnoza'], graf_s['adhd_skor'], yerr = adhds_error, ecolor='red', align='center', capsize=10)\n",
    "axs[0, 0].set_title('ADHDT score (Gillian, 1995)')\n",
    "axs[0, 0].yaxis.grid(True, color='black', linestyle='dashdot', linewidth=0.5)\n",
    "\n",
    "axs[0, 1].bar(graf_s['dijagnoza'], graf_s['Hcy'], yerr = hcy_errors, ecolor='red', align='center', capsize=10)\n",
    "axs[0, 1].set_title('Homocysteine')\n",
    "axs[0, 1].yaxis.grid(True, color='black', linestyle='dashdot', linewidth=0.5)\n",
    "\n",
    "axs[0, 2].bar(graf_s['dijagnoza'], graf_s['theta_beta_ratio'], yerr=tb_errors, ecolor='red', align='center', capsize=10)\n",
    "axs[0, 2].set_title('Theta/beta ratio')\n",
    "axs[0, 2].yaxis.grid(True, color='black', linestyle='dashdot', linewidth=0.5)\n",
    "\n",
    "axs[1, 0].bar(graf_s['dijagnoza'], graf_s['b12'], yerr=b12_errors, ecolor='red', align='center', capsize=10)\n",
    "axs[1, 0].set_title('Vitamin b12')\n",
    "axs[1, 0].yaxis.grid(True, color='black', linestyle='dashdot', linewidth=0.5)\n",
    "\n",
    "axs[1, 1].bar(graf_s['dijagnoza'], graf_s['feritin'], yerr=f_errors, ecolor='red', align='center', capsize=10)\n",
    "axs[1, 1].set_title('Feritin')\n",
    "axs[1, 1].yaxis.grid(True, color='black', linestyle='dashdot', linewidth=0.5)\n",
    "\n",
    "axs[1, 2].bar(graf_s['dijagnoza'], graf_s['TSH'], yerr=tsh_errors, ecolor='red', align='center', capsize=10)\n",
    "axs[1, 2].set_title('Thyroid-stimulating hormone')\n",
    "axs[1, 2].yaxis.grid(True, color='black', linestyle='dashdot', linewidth=0.5)\n",
    "\n",
    "axs[2, 0].bar(graf_s['dijagnoza'], graf_s['arq_dtj'], yerr=dys_errors, ecolor='red', align='center', capsize=10)\n",
    "axs[2, 0].set_title('Dyslexia score (ARQ DST-J)')\n",
    "axs[2, 0].yaxis.grid(True, color='black', linestyle='dashdot', linewidth=0.5)\n",
    "\n",
    "axs[2, 1].bar(graf_s['dijagnoza'], graf_s['vitamin_d'], yerr=vd_errors, ecolor='red', align='center', capsize=10)\n",
    "axs[2, 1].set_title('Vitamin D')\n",
    "axs[2, 1].yaxis.grid(True, color='black', linestyle='dashdot', linewidth=0.5)\n",
    "\n",
    "axs[2, 2].bar(graf_s['dijagnoza'], graf_s['iqt'], yerr=iq_errors, ecolor='red', align='center', capsize=10)\n",
    "axs[2, 2].set_title('IQ total (REVISK)')\n",
    "axs[2, 2].yaxis.grid(True, color='black', linestyle='dashdot', linewidth=0.5)\n",
    "\n",
    "plt.tight_layout()\n",
    "\n",
    "\n",
    "plt.savefig('C:/Users/vitomir.jovanovic.COP/Desktop/ADHD/baza za graf/standardizovane_vrednosti.png', dpi=500)\n"
   ]
  }
 ],
 "metadata": {
  "kernelspec": {
   "display_name": "Python 3",
   "language": "python",
   "name": "python3"
  },
  "language_info": {
   "codemirror_mode": {
    "name": "ipython",
    "version": 3
   },
   "file_extension": ".py",
   "mimetype": "text/x-python",
   "name": "python",
   "nbconvert_exporter": "python",
   "pygments_lexer": "ipython3",
   "version": "3.7.6"
  }
 },
 "nbformat": 4,
 "nbformat_minor": 4
}

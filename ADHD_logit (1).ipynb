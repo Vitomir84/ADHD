{
 "cells": [
  {
   "cell_type": "code",
   "execution_count": 135,
   "metadata": {},
   "outputs": [],
   "source": [
    "import numpy as np\n",
    "import pandas as pd\n",
    "import seaborn as sns\n",
    "import matplotlib as plt\n",
    "%matplotlib inline\n",
    "from sklearn.model_selection import train_test_split\n",
    "from sklearn.preprocessing import StandardScaler"
   ]
  },
  {
   "cell_type": "code",
   "execution_count": 102,
   "metadata": {
    "scrolled": true
   },
   "outputs": [
    {
     "data": {
      "text/html": [
       "<div>\n",
       "<style scoped>\n",
       "    .dataframe tbody tr th:only-of-type {\n",
       "        vertical-align: middle;\n",
       "    }\n",
       "\n",
       "    .dataframe tbody tr th {\n",
       "        vertical-align: top;\n",
       "    }\n",
       "\n",
       "    .dataframe thead th {\n",
       "        text-align: right;\n",
       "    }\n",
       "</style>\n",
       "<table border=\"1\" class=\"dataframe\">\n",
       "  <thead>\n",
       "    <tr style=\"text-align: right;\">\n",
       "      <th></th>\n",
       "      <th>redni broj</th>\n",
       "      <th>grupa</th>\n",
       "      <th>datum rodjenja</th>\n",
       "      <th>datum pregleda</th>\n",
       "      <th>broj protokola</th>\n",
       "      <th>psihijatrijski nalaz</th>\n",
       "      <th>psihicki status</th>\n",
       "      <th>logopedski status</th>\n",
       "      <th>glu</th>\n",
       "      <th>fe</th>\n",
       "      <th>...</th>\n",
       "      <th>beta 3mean</th>\n",
       "      <th>adhd_skor</th>\n",
       "      <th>adhd_(roditelj)</th>\n",
       "      <th>trog_II</th>\n",
       "      <th>arq_dtj</th>\n",
       "      <th>dyslexia_r</th>\n",
       "      <th>iqv</th>\n",
       "      <th>iqnv</th>\n",
       "      <th>iqt</th>\n",
       "      <th>dijagnoza</th>\n",
       "    </tr>\n",
       "  </thead>\n",
       "  <tbody>\n",
       "    <tr>\n",
       "      <th>0</th>\n",
       "      <td>1</td>\n",
       "      <td>1</td>\n",
       "      <td>14.10.2007.</td>\n",
       "      <td>3.9.2018.</td>\n",
       "      <td>3001/18</td>\n",
       "      <td>1</td>\n",
       "      <td>1</td>\n",
       "      <td>2</td>\n",
       "      <td>4.7</td>\n",
       "      <td>20.2</td>\n",
       "      <td>...</td>\n",
       "      <td>3.29</td>\n",
       "      <td>89</td>\n",
       "      <td>2</td>\n",
       "      <td>9.11</td>\n",
       "      <td>0.27</td>\n",
       "      <td>2</td>\n",
       "      <td>110</td>\n",
       "      <td>112</td>\n",
       "      <td>111</td>\n",
       "      <td>ADHD</td>\n",
       "    </tr>\n",
       "    <tr>\n",
       "      <th>1</th>\n",
       "      <td>2</td>\n",
       "      <td>1</td>\n",
       "      <td>23.2.2010.</td>\n",
       "      <td>26.9.2018.</td>\n",
       "      <td>3002/18</td>\n",
       "      <td>1</td>\n",
       "      <td>1</td>\n",
       "      <td>2</td>\n",
       "      <td>4.8</td>\n",
       "      <td>18.7</td>\n",
       "      <td>...</td>\n",
       "      <td>3.39</td>\n",
       "      <td>87</td>\n",
       "      <td>1</td>\n",
       "      <td>5.30</td>\n",
       "      <td>0.36</td>\n",
       "      <td>2</td>\n",
       "      <td>84</td>\n",
       "      <td>100</td>\n",
       "      <td>91</td>\n",
       "      <td>ADHD</td>\n",
       "    </tr>\n",
       "    <tr>\n",
       "      <th>2</th>\n",
       "      <td>3</td>\n",
       "      <td>1</td>\n",
       "      <td>24.10.2008.</td>\n",
       "      <td>3.9.2018.</td>\n",
       "      <td>3003/18</td>\n",
       "      <td>1</td>\n",
       "      <td>1</td>\n",
       "      <td>2</td>\n",
       "      <td>4.9</td>\n",
       "      <td>29.1</td>\n",
       "      <td>...</td>\n",
       "      <td>3.44</td>\n",
       "      <td>102</td>\n",
       "      <td>2</td>\n",
       "      <td>6.60</td>\n",
       "      <td>0.45</td>\n",
       "      <td>2</td>\n",
       "      <td>120</td>\n",
       "      <td>122</td>\n",
       "      <td>121</td>\n",
       "      <td>ADHD</td>\n",
       "    </tr>\n",
       "    <tr>\n",
       "      <th>3</th>\n",
       "      <td>4</td>\n",
       "      <td>1</td>\n",
       "      <td>27.2.2008.</td>\n",
       "      <td>3.9.2018.</td>\n",
       "      <td>3004/18</td>\n",
       "      <td>2</td>\n",
       "      <td>1</td>\n",
       "      <td>2</td>\n",
       "      <td>5.3</td>\n",
       "      <td>14.9</td>\n",
       "      <td>...</td>\n",
       "      <td>4.57</td>\n",
       "      <td>91</td>\n",
       "      <td>1</td>\n",
       "      <td>13.00</td>\n",
       "      <td>1.18</td>\n",
       "      <td>1</td>\n",
       "      <td>101</td>\n",
       "      <td>126</td>\n",
       "      <td>123</td>\n",
       "      <td>ADHD</td>\n",
       "    </tr>\n",
       "    <tr>\n",
       "      <th>4</th>\n",
       "      <td>6</td>\n",
       "      <td>1</td>\n",
       "      <td>22.04.2007.</td>\n",
       "      <td>3.9.2018.</td>\n",
       "      <td>3006/18</td>\n",
       "      <td>1</td>\n",
       "      <td>1</td>\n",
       "      <td>2</td>\n",
       "      <td>4.5</td>\n",
       "      <td>20.8</td>\n",
       "      <td>...</td>\n",
       "      <td>3.95</td>\n",
       "      <td>91</td>\n",
       "      <td>2</td>\n",
       "      <td>4.00</td>\n",
       "      <td>0.63</td>\n",
       "      <td>2</td>\n",
       "      <td>90</td>\n",
       "      <td>90</td>\n",
       "      <td>90</td>\n",
       "      <td>ADHD</td>\n",
       "    </tr>\n",
       "  </tbody>\n",
       "</table>\n",
       "<p>5 rows × 34 columns</p>\n",
       "</div>"
      ],
      "text/plain": [
       "   redni broj  grupa datum rodjenja datum pregleda broj protokola  \\\n",
       "0           1      1    14.10.2007.      3.9.2018.        3001/18   \n",
       "1           2      1     23.2.2010.     26.9.2018.        3002/18   \n",
       "2           3      1    24.10.2008.      3.9.2018.        3003/18   \n",
       "3           4      1     27.2.2008.      3.9.2018.        3004/18   \n",
       "4           6      1    22.04.2007.      3.9.2018.        3006/18   \n",
       "\n",
       "   psihijatrijski nalaz  psihicki status  logopedski status  glu    fe  ...  \\\n",
       "0                     1                1                  2  4.7  20.2  ...   \n",
       "1                     1                1                  2  4.8  18.7  ...   \n",
       "2                     1                1                  2  4.9  29.1  ...   \n",
       "3                     2                1                  2  5.3  14.9  ...   \n",
       "4                     1                1                  2  4.5  20.8  ...   \n",
       "\n",
       "   beta 3mean  adhd_skor  adhd_(roditelj)  trog_II  arq_dtj  dyslexia_r  iqv  \\\n",
       "0        3.29         89                2     9.11     0.27           2  110   \n",
       "1        3.39         87                1     5.30     0.36           2   84   \n",
       "2        3.44        102                2     6.60     0.45           2  120   \n",
       "3        4.57         91                1    13.00     1.18           1  101   \n",
       "4        3.95         91                2     4.00     0.63           2   90   \n",
       "\n",
       "   iqnv  iqt  dijagnoza  \n",
       "0   112  111       ADHD  \n",
       "1   100   91       ADHD  \n",
       "2   122  121       ADHD  \n",
       "3   126  123       ADHD  \n",
       "4    90   90       ADHD  \n",
       "\n",
       "[5 rows x 34 columns]"
      ]
     },
     "execution_count": 102,
     "metadata": {},
     "output_type": "execute_result"
    }
   ],
   "source": [
    "df = pd.read_excel(\"C:/Users/vitomir.jovanovic.COP/Desktop/ADHD/baze za logit model/adhd_logit.xlsx\")\n",
    "df.head()"
   ]
  },
  {
   "cell_type": "code",
   "execution_count": 103,
   "metadata": {},
   "outputs": [],
   "source": [
    "df['dijagnoza']=df['dijagnoza'].map({'ADHD':1, 'Bez dijagnoze':0})"
   ]
  },
  {
   "cell_type": "code",
   "execution_count": 63,
   "metadata": {},
   "outputs": [],
   "source": []
  },
  {
   "cell_type": "code",
   "execution_count": 104,
   "metadata": {},
   "outputs": [],
   "source": [
    "import statsmodels.api as sm\n",
    "from statsmodels.formula.api import logit "
   ]
  },
  {
   "cell_type": "code",
   "execution_count": 105,
   "metadata": {},
   "outputs": [],
   "source": [
    "df=df.drop(['grupa','datum rodjenja', 'datum pregleda', 'broj protokola', 'psihijatrijski nalaz', 'psihicki status', 'logopedski status'],axis=1)"
   ]
  },
  {
   "cell_type": "code",
   "execution_count": null,
   "metadata": {},
   "outputs": [],
   "source": []
  },
  {
   "cell_type": "code",
   "execution_count": 106,
   "metadata": {},
   "outputs": [
    {
     "data": {
      "text/plain": [
       "StandardScaler(copy=True, with_mean=True, with_std=True)"
      ]
     },
     "execution_count": 106,
     "metadata": {},
     "output_type": "execute_result"
    }
   ],
   "source": [
    "#Standardizovanje prediktora\n",
    "scaler = StandardScaler()\n",
    "scaler.fit(df.drop('dijagnoza',axis=1))"
   ]
  },
  {
   "cell_type": "code",
   "execution_count": 107,
   "metadata": {},
   "outputs": [],
   "source": [
    "scaled_features = scaler.fit_transform(df.drop('dijagnoza',axis=1))"
   ]
  },
  {
   "cell_type": "code",
   "execution_count": 108,
   "metadata": {},
   "outputs": [
    {
     "data": {
      "text/html": [
       "<div>\n",
       "<style scoped>\n",
       "    .dataframe tbody tr th:only-of-type {\n",
       "        vertical-align: middle;\n",
       "    }\n",
       "\n",
       "    .dataframe tbody tr th {\n",
       "        vertical-align: top;\n",
       "    }\n",
       "\n",
       "    .dataframe thead th {\n",
       "        text-align: right;\n",
       "    }\n",
       "</style>\n",
       "<table border=\"1\" class=\"dataframe\">\n",
       "  <thead>\n",
       "    <tr style=\"text-align: right;\">\n",
       "      <th></th>\n",
       "      <th>redni broj</th>\n",
       "      <th>glu</th>\n",
       "      <th>fe</th>\n",
       "      <th>feritin</th>\n",
       "      <th>Hcy</th>\n",
       "      <th>TSH</th>\n",
       "      <th>FT4</th>\n",
       "      <th>b12</th>\n",
       "      <th>vitamin_d</th>\n",
       "      <th>theta_beta_ratio</th>\n",
       "      <th>...</th>\n",
       "      <th>beta 2 mean</th>\n",
       "      <th>beta 3mean</th>\n",
       "      <th>adhd_skor</th>\n",
       "      <th>adhd_(roditelj)</th>\n",
       "      <th>trog_II</th>\n",
       "      <th>arq_dtj</th>\n",
       "      <th>dyslexia_r</th>\n",
       "      <th>iqv</th>\n",
       "      <th>iqnv</th>\n",
       "      <th>iqt</th>\n",
       "    </tr>\n",
       "  </thead>\n",
       "  <tbody>\n",
       "    <tr>\n",
       "      <th>0</th>\n",
       "      <td>-1.679336</td>\n",
       "      <td>-0.664654</td>\n",
       "      <td>0.955543</td>\n",
       "      <td>1.351584</td>\n",
       "      <td>-0.325070</td>\n",
       "      <td>1.256630</td>\n",
       "      <td>-0.752345</td>\n",
       "      <td>-0.824504</td>\n",
       "      <td>0.118401</td>\n",
       "      <td>-0.284511</td>\n",
       "      <td>...</td>\n",
       "      <td>-1.503123</td>\n",
       "      <td>-0.975940</td>\n",
       "      <td>0.272942</td>\n",
       "      <td>1.073366</td>\n",
       "      <td>0.479198</td>\n",
       "      <td>-0.855480</td>\n",
       "      <td>0.455200</td>\n",
       "      <td>0.314564</td>\n",
       "      <td>0.247007</td>\n",
       "      <td>0.310903</td>\n",
       "    </tr>\n",
       "    <tr>\n",
       "      <th>1</th>\n",
       "      <td>-1.659832</td>\n",
       "      <td>-0.453453</td>\n",
       "      <td>0.663070</td>\n",
       "      <td>1.351584</td>\n",
       "      <td>2.076703</td>\n",
       "      <td>1.995827</td>\n",
       "      <td>0.852627</td>\n",
       "      <td>-0.550356</td>\n",
       "      <td>1.313506</td>\n",
       "      <td>0.684209</td>\n",
       "      <td>...</td>\n",
       "      <td>-0.760055</td>\n",
       "      <td>-0.853754</td>\n",
       "      <td>0.202472</td>\n",
       "      <td>-0.747280</td>\n",
       "      <td>-0.871041</td>\n",
       "      <td>-0.678575</td>\n",
       "      <td>0.455200</td>\n",
       "      <td>-1.588110</td>\n",
       "      <td>-0.607159</td>\n",
       "      <td>-1.267165</td>\n",
       "    </tr>\n",
       "    <tr>\n",
       "      <th>2</th>\n",
       "      <td>-1.640329</td>\n",
       "      <td>-0.242251</td>\n",
       "      <td>2.690883</td>\n",
       "      <td>0.033790</td>\n",
       "      <td>-0.925514</td>\n",
       "      <td>-0.726197</td>\n",
       "      <td>-0.004824</td>\n",
       "      <td>-0.598735</td>\n",
       "      <td>0.619406</td>\n",
       "      <td>-0.664824</td>\n",
       "      <td>...</td>\n",
       "      <td>-0.825896</td>\n",
       "      <td>-0.792661</td>\n",
       "      <td>0.731002</td>\n",
       "      <td>1.073366</td>\n",
       "      <td>-0.410329</td>\n",
       "      <td>-0.501670</td>\n",
       "      <td>0.455200</td>\n",
       "      <td>1.046361</td>\n",
       "      <td>0.958812</td>\n",
       "      <td>1.099937</td>\n",
       "    </tr>\n",
       "    <tr>\n",
       "      <th>3</th>\n",
       "      <td>-1.620825</td>\n",
       "      <td>0.602555</td>\n",
       "      <td>-0.077862</td>\n",
       "      <td>-0.137352</td>\n",
       "      <td>0.548302</td>\n",
       "      <td>-0.828305</td>\n",
       "      <td>-1.077736</td>\n",
       "      <td>-1.050274</td>\n",
       "      <td>2.623425</td>\n",
       "      <td>-0.019010</td>\n",
       "      <td>...</td>\n",
       "      <td>0.744893</td>\n",
       "      <td>0.588044</td>\n",
       "      <td>0.343413</td>\n",
       "      <td>-0.747280</td>\n",
       "      <td>1.857788</td>\n",
       "      <td>0.933224</td>\n",
       "      <td>-2.196836</td>\n",
       "      <td>-0.344054</td>\n",
       "      <td>1.243534</td>\n",
       "      <td>1.257744</td>\n",
       "    </tr>\n",
       "    <tr>\n",
       "      <th>4</th>\n",
       "      <td>-1.581818</td>\n",
       "      <td>-1.087058</td>\n",
       "      <td>1.072532</td>\n",
       "      <td>0.501578</td>\n",
       "      <td>0.657473</td>\n",
       "      <td>-0.537689</td>\n",
       "      <td>0.553618</td>\n",
       "      <td>-1.077151</td>\n",
       "      <td>2.028482</td>\n",
       "      <td>-1.045136</td>\n",
       "      <td>...</td>\n",
       "      <td>-0.289759</td>\n",
       "      <td>-0.169511</td>\n",
       "      <td>0.343413</td>\n",
       "      <td>1.073366</td>\n",
       "      <td>-1.331752</td>\n",
       "      <td>-0.147861</td>\n",
       "      <td>0.455200</td>\n",
       "      <td>-1.149031</td>\n",
       "      <td>-1.318964</td>\n",
       "      <td>-1.346068</td>\n",
       "    </tr>\n",
       "  </tbody>\n",
       "</table>\n",
       "<p>5 rows × 26 columns</p>\n",
       "</div>"
      ],
      "text/plain": [
       "   redni broj       glu        fe   feritin       Hcy       TSH       FT4  \\\n",
       "0   -1.679336 -0.664654  0.955543  1.351584 -0.325070  1.256630 -0.752345   \n",
       "1   -1.659832 -0.453453  0.663070  1.351584  2.076703  1.995827  0.852627   \n",
       "2   -1.640329 -0.242251  2.690883  0.033790 -0.925514 -0.726197 -0.004824   \n",
       "3   -1.620825  0.602555 -0.077862 -0.137352  0.548302 -0.828305 -1.077736   \n",
       "4   -1.581818 -1.087058  1.072532  0.501578  0.657473 -0.537689  0.553618   \n",
       "\n",
       "        b12  vitamin_d  theta_beta_ratio  ...  beta 2 mean  beta 3mean  \\\n",
       "0 -0.824504   0.118401         -0.284511  ...    -1.503123   -0.975940   \n",
       "1 -0.550356   1.313506          0.684209  ...    -0.760055   -0.853754   \n",
       "2 -0.598735   0.619406         -0.664824  ...    -0.825896   -0.792661   \n",
       "3 -1.050274   2.623425         -0.019010  ...     0.744893    0.588044   \n",
       "4 -1.077151   2.028482         -1.045136  ...    -0.289759   -0.169511   \n",
       "\n",
       "   adhd_skor  adhd_(roditelj)   trog_II   arq_dtj  dyslexia_r       iqv  \\\n",
       "0   0.272942         1.073366  0.479198 -0.855480    0.455200  0.314564   \n",
       "1   0.202472        -0.747280 -0.871041 -0.678575    0.455200 -1.588110   \n",
       "2   0.731002         1.073366 -0.410329 -0.501670    0.455200  1.046361   \n",
       "3   0.343413        -0.747280  1.857788  0.933224   -2.196836 -0.344054   \n",
       "4   0.343413         1.073366 -1.331752 -0.147861    0.455200 -1.149031   \n",
       "\n",
       "       iqnv       iqt  \n",
       "0  0.247007  0.310903  \n",
       "1 -0.607159 -1.267165  \n",
       "2  0.958812  1.099937  \n",
       "3  1.243534  1.257744  \n",
       "4 -1.318964 -1.346068  \n",
       "\n",
       "[5 rows x 26 columns]"
      ]
     },
     "execution_count": 108,
     "metadata": {},
     "output_type": "execute_result"
    }
   ],
   "source": [
    "df_feat = pd.DataFrame(scaled_features,columns=df.columns[:-1])\n",
    "df_feat.head()"
   ]
  },
  {
   "cell_type": "code",
   "execution_count": 113,
   "metadata": {},
   "outputs": [
    {
     "data": {
      "text/plain": [
       "0      1\n",
       "1      1\n",
       "2      1\n",
       "3      1\n",
       "4      1\n",
       "      ..\n",
       "129    0\n",
       "130    0\n",
       "131    0\n",
       "132    0\n",
       "133    0\n",
       "Name: dijagnoza, Length: 134, dtype: int64"
      ]
     },
     "execution_count": 113,
     "metadata": {},
     "output_type": "execute_result"
    }
   ],
   "source": [
    "dijagnoza = df['dijagnoza']\n",
    "dijagnoza"
   ]
  },
  {
   "cell_type": "code",
   "execution_count": 114,
   "metadata": {},
   "outputs": [],
   "source": [
    "df_feat['dijagnoza'] = pd.Series(dijagnoza, index=df_feat.index)"
   ]
  },
  {
   "cell_type": "code",
   "execution_count": 211,
   "metadata": {},
   "outputs": [],
   "source": [
    "#Selektujemo ispitanike koji imaju visok adhd skor ali nemaju dijagnozu\n",
    "adhd_rekod = df_feat[(df_feat['adhd_skor']>0.5) & (df_feat['dijagnoza']==0)]"
   ]
  },
  {
   "cell_type": "code",
   "execution_count": 212,
   "metadata": {},
   "outputs": [],
   "source": [
    "adhd_rekod.to_excel('C:/Users/vitomir.jovanovic.COP/Desktop/ADHD/rezultati logit modeli/adhd_za_rekod.xlsx',sheet_name='Sheet1')"
   ]
  },
  {
   "cell_type": "code",
   "execution_count": 117,
   "metadata": {
    "scrolled": true
   },
   "outputs": [],
   "source": [
    "from sklearn.model_selection import train_test_split\n",
    "\n",
    "train_data, test_data = train_test_split(df_feat,\n",
    "                                         test_size = 0.20,\n",
    "                                         random_state = 42)"
   ]
  },
  {
   "cell_type": "code",
   "execution_count": 118,
   "metadata": {
    "scrolled": true
   },
   "outputs": [],
   "source": [
    "formula = ('dijagnoza ~ fe + feritin + Hcy + TSH + FT4 + b12 + vitamin_d + theta_beta_ratio + trog_II + iqv + iqnv + iqt')"
   ]
  },
  {
   "cell_type": "code",
   "execution_count": 119,
   "metadata": {
    "scrolled": true
   },
   "outputs": [
    {
     "name": "stdout",
     "output_type": "stream",
     "text": [
      "Optimization terminated successfully.\n",
      "         Current function value: 0.321106\n",
      "         Iterations 8\n"
     ]
    }
   ],
   "source": [
    "model = logit(formula = formula, data = train_data).fit()"
   ]
  },
  {
   "cell_type": "code",
   "execution_count": 140,
   "metadata": {
    "scrolled": true
   },
   "outputs": [
    {
     "data": {
      "text/html": [
       "<table class=\"simpletable\">\n",
       "<caption>Logit Regression Results</caption>\n",
       "<tr>\n",
       "  <th>Dep. Variable:</th>       <td>dijagnoza</td>    <th>  No. Observations:  </th>  <td>   107</td>  \n",
       "</tr>\n",
       "<tr>\n",
       "  <th>Model:</th>                 <td>Logit</td>      <th>  Df Residuals:      </th>  <td>    94</td>  \n",
       "</tr>\n",
       "<tr>\n",
       "  <th>Method:</th>                 <td>MLE</td>       <th>  Df Model:          </th>  <td>    12</td>  \n",
       "</tr>\n",
       "<tr>\n",
       "  <th>Date:</th>            <td>Fri, 26 Jun 2020</td> <th>  Pseudo R-squ.:     </th>  <td>0.5360</td>  \n",
       "</tr>\n",
       "<tr>\n",
       "  <th>Time:</th>                <td>13:53:07</td>     <th>  Log-Likelihood:    </th> <td> -34.358</td> \n",
       "</tr>\n",
       "<tr>\n",
       "  <th>converged:</th>             <td>True</td>       <th>  LL-Null:           </th> <td> -74.050</td> \n",
       "</tr>\n",
       "<tr>\n",
       "  <th>Covariance Type:</th>     <td>nonrobust</td>    <th>  LLR p-value:       </th> <td>5.411e-12</td>\n",
       "</tr>\n",
       "</table>\n",
       "<table class=\"simpletable\">\n",
       "<tr>\n",
       "          <td></td>            <th>coef</th>     <th>std err</th>      <th>z</th>      <th>P>|z|</th>  <th>[0.025</th>    <th>0.975]</th>  \n",
       "</tr>\n",
       "<tr>\n",
       "  <th>Intercept</th>        <td>    0.4381</td> <td>    0.380</td> <td>    1.152</td> <td> 0.249</td> <td>   -0.307</td> <td>    1.183</td>\n",
       "</tr>\n",
       "<tr>\n",
       "  <th>fe</th>               <td>    0.9558</td> <td>    0.410</td> <td>    2.329</td> <td> 0.020</td> <td>    0.151</td> <td>    1.760</td>\n",
       "</tr>\n",
       "<tr>\n",
       "  <th>feritin</th>          <td>    0.3404</td> <td>    0.396</td> <td>    0.859</td> <td> 0.390</td> <td>   -0.436</td> <td>    1.117</td>\n",
       "</tr>\n",
       "<tr>\n",
       "  <th>Hcy</th>              <td>    2.7152</td> <td>    0.677</td> <td>    4.014</td> <td> 0.000</td> <td>    1.389</td> <td>    4.041</td>\n",
       "</tr>\n",
       "<tr>\n",
       "  <th>TSH</th>              <td>    0.1117</td> <td>    0.325</td> <td>    0.344</td> <td> 0.731</td> <td>   -0.525</td> <td>    0.749</td>\n",
       "</tr>\n",
       "<tr>\n",
       "  <th>FT4</th>              <td>    0.3094</td> <td>    0.381</td> <td>    0.812</td> <td> 0.417</td> <td>   -0.437</td> <td>    1.056</td>\n",
       "</tr>\n",
       "<tr>\n",
       "  <th>b12</th>              <td>   -0.3871</td> <td>    0.402</td> <td>   -0.962</td> <td> 0.336</td> <td>   -1.175</td> <td>    0.401</td>\n",
       "</tr>\n",
       "<tr>\n",
       "  <th>vitamin_d</th>        <td>   -0.1459</td> <td>    0.305</td> <td>   -0.478</td> <td> 0.633</td> <td>   -0.745</td> <td>    0.453</td>\n",
       "</tr>\n",
       "<tr>\n",
       "  <th>theta_beta_ratio</th> <td>    0.8587</td> <td>    0.395</td> <td>    2.174</td> <td> 0.030</td> <td>    0.085</td> <td>    1.633</td>\n",
       "</tr>\n",
       "<tr>\n",
       "  <th>trog_II</th>          <td>   -0.8814</td> <td>    0.436</td> <td>   -2.021</td> <td> 0.043</td> <td>   -1.736</td> <td>   -0.027</td>\n",
       "</tr>\n",
       "<tr>\n",
       "  <th>iqv</th>              <td>   -0.7957</td> <td>    1.015</td> <td>   -0.784</td> <td> 0.433</td> <td>   -2.786</td> <td>    1.194</td>\n",
       "</tr>\n",
       "<tr>\n",
       "  <th>iqnv</th>             <td>   -0.3130</td> <td>    0.924</td> <td>   -0.339</td> <td> 0.735</td> <td>   -2.124</td> <td>    1.498</td>\n",
       "</tr>\n",
       "<tr>\n",
       "  <th>iqt</th>              <td>    1.0376</td> <td>    1.634</td> <td>    0.635</td> <td> 0.525</td> <td>   -2.164</td> <td>    4.239</td>\n",
       "</tr>\n",
       "</table>"
      ],
      "text/plain": [
       "<class 'statsmodels.iolib.summary.Summary'>\n",
       "\"\"\"\n",
       "                           Logit Regression Results                           \n",
       "==============================================================================\n",
       "Dep. Variable:              dijagnoza   No. Observations:                  107\n",
       "Model:                          Logit   Df Residuals:                       94\n",
       "Method:                           MLE   Df Model:                           12\n",
       "Date:                Fri, 26 Jun 2020   Pseudo R-squ.:                  0.5360\n",
       "Time:                        13:53:07   Log-Likelihood:                -34.358\n",
       "converged:                       True   LL-Null:                       -74.050\n",
       "Covariance Type:            nonrobust   LLR p-value:                 5.411e-12\n",
       "====================================================================================\n",
       "                       coef    std err          z      P>|z|      [0.025      0.975]\n",
       "------------------------------------------------------------------------------------\n",
       "Intercept            0.4381      0.380      1.152      0.249      -0.307       1.183\n",
       "fe                   0.9558      0.410      2.329      0.020       0.151       1.760\n",
       "feritin              0.3404      0.396      0.859      0.390      -0.436       1.117\n",
       "Hcy                  2.7152      0.677      4.014      0.000       1.389       4.041\n",
       "TSH                  0.1117      0.325      0.344      0.731      -0.525       0.749\n",
       "FT4                  0.3094      0.381      0.812      0.417      -0.437       1.056\n",
       "b12                 -0.3871      0.402     -0.962      0.336      -1.175       0.401\n",
       "vitamin_d           -0.1459      0.305     -0.478      0.633      -0.745       0.453\n",
       "theta_beta_ratio     0.8587      0.395      2.174      0.030       0.085       1.633\n",
       "trog_II             -0.8814      0.436     -2.021      0.043      -1.736      -0.027\n",
       "iqv                 -0.7957      1.015     -0.784      0.433      -2.786       1.194\n",
       "iqnv                -0.3130      0.924     -0.339      0.735      -2.124       1.498\n",
       "iqt                  1.0376      1.634      0.635      0.525      -2.164       4.239\n",
       "====================================================================================\n",
       "\"\"\""
      ]
     },
     "execution_count": 140,
     "metadata": {},
     "output_type": "execute_result"
    }
   ],
   "source": [
    "results=model.summary()\n",
    "results"
   ]
  },
  {
   "cell_type": "code",
   "execution_count": 197,
   "metadata": {},
   "outputs": [],
   "source": [
    "results_text = results.as_csv()\n",
    "\n",
    "import csv\n",
    "resultFile = open(\"C:/Users/vitomir.jovanovic.COP/Desktop/ADHD/rezultati logit modeli/eksel_table_adhd_only_bio\",'w')\n",
    "resultFile.write(results_text)\n",
    "resultFile.close()"
   ]
  },
  {
   "cell_type": "code",
   "execution_count": 163,
   "metadata": {},
   "outputs": [],
   "source": [
    "odd_ratio_adhd = np.exp(model.params)\n",
    "odd_ratio_adhd.to_excel('C:/Users/vitomir.jovanovic.COP/Desktop/ADHD/rezultati logit modeli/odd_ratio_adhd_only_bio.xls')"
   ]
  },
  {
   "cell_type": "code",
   "execution_count": 156,
   "metadata": {},
   "outputs": [
    {
     "data": {
      "text/plain": [
       "Intercept            1.549731\n",
       "fe                   2.600685\n",
       "feritin              1.405538\n",
       "Hcy                 15.108334\n",
       "TSH                  1.118164\n",
       "FT4                  1.362657\n",
       "b12                  0.679048\n",
       "vitamin_d            0.864207\n",
       "theta_beta_ratio     2.360022\n",
       "trog_II              0.414192\n",
       "iqv                  0.451245\n",
       "iqnv                 0.731283\n",
       "iqt                  2.822362\n",
       "dtype: float64"
      ]
     },
     "execution_count": 156,
     "metadata": {},
     "output_type": "execute_result"
    }
   ],
   "source": [
    "np.exp(model.params)"
   ]
  },
  {
   "cell_type": "code",
   "execution_count": 180,
   "metadata": {
    "scrolled": true
   },
   "outputs": [
    {
     "data": {
      "image/png": "[encoded data removed]",
      "text/plain": [
       "<Figure size 432x288 with 1 Axes>"
      ]
     },
     "metadata": {},
     "output_type": "display_data"
    }
   ],
   "source": [
    "#plot za Hcy homocistein pravi najvecu razliku\n",
    "#standardizovani skorovi\n",
    "plot=sns.regplot(x = \"Hcy\", y = \"dijagnoza\", \n",
    "            y_jitter = 0.03,\n",
    "            data = df_feat, \n",
    "            logistic = True,\n",
    "            ci = None)\n",
    "\n",
    "plot.figure.savefig(\"C:/Users/vitomir.jovanovic.COP/Desktop/ADHD/rezultati logit modeli/homocistein_z.png\")"
   ]
  },
  {
   "cell_type": "code",
   "execution_count": 179,
   "metadata": {},
   "outputs": [
    {
     "data": {
      "image/png": "[encoded data removed]",
      "text/plain": [
       "<Figure size 432x288 with 1 Axes>"
      ]
     },
     "metadata": {},
     "output_type": "display_data"
    }
   ],
   "source": [
    "plot1 = sns.regplot(x = \"Hcy\", y = \"dijagnoza\", \n",
    "            y_jitter = 0.03,\n",
    "            data = df, \n",
    "            logistic = True,\n",
    "            ci = None)\n",
    "plot1.figure.savefig(\"C:/Users/vitomir.jovanovic.COP/Desktop/ADHD/rezultati logit modeli/homocistein_normal.png\")"
   ]
  },
  {
   "cell_type": "code",
   "execution_count": 176,
   "metadata": {
    "scrolled": true
   },
   "outputs": [
    {
     "data": {
      "image/png": "[encoded data removed]",
      "text/plain": [
       "<Figure size 432x288 with 1 Axes>"
      ]
     },
     "metadata": {},
     "output_type": "display_data"
    }
   ],
   "source": [
    "# sirovi skorovi za adhd skor\n",
    "plot1 = sns.regplot(x = \"adhd_skor\", y = \"dijagnoza\", \n",
    "            y_jitter = 0.03,\n",
    "            data = df, \n",
    "            logistic = True,\n",
    "            ci = None)\n",
    "plot1.figure.savefig(\"C:/Users/vitomir.jovanovic.COP/Desktop/ADHD/rezultati logit modeli/adhd_normal.png\")"
   ]
  },
  {
   "cell_type": "code",
   "execution_count": 178,
   "metadata": {},
   "outputs": [
    {
     "data": {
      "image/png": "[encoded data removed]",
      "text/plain": [
       "<Figure size 432x288 with 1 Axes>"
      ]
     },
     "metadata": {},
     "output_type": "display_data"
    }
   ],
   "source": [
    "#standardizovani skorovi za adhd skor\n",
    "plot=sns.regplot(x = \"adhd_skor\", y = \"dijagnoza\", \n",
    "            y_jitter = 0.03,\n",
    "            data = df_feat, \n",
    "            logistic = True,\n",
    "            ci = None)\n",
    "\n",
    "plot.figure.savefig(\"C:/Users/vitomir.jovanovic.COP/Desktop/ADHD/rezultati logit modeli/adhd_score_z.png\")"
   ]
  },
  {
   "cell_type": "code",
   "execution_count": 181,
   "metadata": {},
   "outputs": [
    {
     "data": {
      "image/png": "[encoded data removed]",
      "text/plain": [
       "<Figure size 432x288 with 1 Axes>"
      ]
     },
     "metadata": {},
     "output_type": "display_data"
    }
   ],
   "source": [
    "# sirovi skorovi za dst skor\n",
    "plot1 = sns.regplot(x = \"arq_dtj\", y = \"dijagnoza\", \n",
    "            y_jitter = 0.03,\n",
    "            data = df, \n",
    "            logistic = True,\n",
    "            ci = None)\n",
    "plot1.figure.savefig(\"C:/Users/vitomir.jovanovic.COP/Desktop/ADHD/rezultati logit modeli/dstj_normal.png\")"
   ]
  },
  {
   "cell_type": "code",
   "execution_count": 182,
   "metadata": {},
   "outputs": [
    {
     "data": {
      "image/png": "[encoded data removed]",
      "text/plain": [
       "<Figure size 432x288 with 1 Axes>"
      ]
     },
     "metadata": {},
     "output_type": "display_data"
    }
   ],
   "source": [
    "# standardizovani skorovi za dst skor\n",
    "plot1 = sns.regplot(x = \"arq_dtj\", y = \"dijagnoza\", \n",
    "            y_jitter = 0.03,\n",
    "            data = df_feat, \n",
    "            logistic = True,\n",
    "            ci = None)\n",
    "plot1.figure.savefig(\"C:/Users/vitomir.jovanovic.COP/Desktop/ADHD/rezultati logit modeli/dstj_z.png\")"
   ]
  },
  {
   "cell_type": "code",
   "execution_count": 124,
   "metadata": {},
   "outputs": [
    {
     "name": "stdout",
     "output_type": "stream",
     "text": [
      "Predicted  0   1  All\n",
      "Actual               \n",
      "0          4   6   10\n",
      "1          2  15   17\n",
      "All        6  21   27\n"
     ]
    }
   ],
   "source": [
    "import numpy as np\n",
    "from sklearn.metrics import classification_report, accuracy_score, roc_auc_score\n",
    "\n",
    "# Compute prediction\n",
    "prediction = model.predict(exog = test_data)\n",
    "\n",
    "\n",
    "\n",
    "# Define the cutoff\n",
    "cutoff = 0.5\n",
    "\n",
    "# Compute class predictions: y_prediction\n",
    "y_prediction = np.where(prediction > cutoff, 1, 0)\n",
    "\n",
    "# Assign actual class labels from the test sample to y_actual\n",
    "y_actual = test_data[\"dijagnoza\"]\n",
    "\n",
    "\n",
    "# Compute and print confusion matrix using crosstab function\n",
    "conf_matrix = pd.crosstab(y_actual, y_prediction,\n",
    "                       rownames = [\"Actual\"], \n",
    "                       colnames = [\"Predicted\"], \n",
    "                       margins = True)\n",
    "                      \n",
    "# Print the confusion matrix\n",
    "print(conf_matrix)"
   ]
  },
  {
   "cell_type": "code",
   "execution_count": 193,
   "metadata": {
    "scrolled": true
   },
   "outputs": [
    {
     "name": "stdout",
     "output_type": "stream",
     "text": [
      "        Logit Marginal Effects       \n",
      "=====================================\n",
      "Dep. Variable:              dijagnoza\n",
      "Method:                          dydx\n",
      "At:                           overall\n",
      "====================================================================================\n",
      "                      dy/dx    std err          z      P>|z|      [0.025      0.975]\n",
      "------------------------------------------------------------------------------------\n",
      "fe                   0.0975      0.038      2.599      0.009       0.024       0.171\n",
      "feritin              0.0347      0.040      0.874      0.382      -0.043       0.113\n",
      "Hcy                  0.2770      0.044      6.278      0.000       0.190       0.363\n",
      "TSH                  0.0114      0.033      0.344      0.731      -0.053       0.076\n",
      "FT4                  0.0316      0.038      0.824      0.410      -0.044       0.107\n",
      "b12                 -0.0395      0.040     -0.984      0.325      -0.118       0.039\n",
      "vitamin_d           -0.0149      0.031     -0.479      0.632      -0.076       0.046\n",
      "theta_beta_ratio     0.0876      0.037      2.355      0.019       0.015       0.160\n",
      "trog_II             -0.0899      0.041     -2.194      0.028      -0.170      -0.010\n",
      "iqv                 -0.0812      0.102     -0.792      0.428      -0.282       0.120\n",
      "iqnv                -0.0319      0.094     -0.339      0.735      -0.216       0.153\n",
      "iqt                  0.1058      0.166      0.639      0.523      -0.219       0.430\n",
      "====================================================================================\n"
     ]
    }
   ],
   "source": [
    "AME = model.get_margeff(at='overall', method='dydx')\n",
    "print(AME.summary())\n",
    "#interpretation\n",
    "#The Average Marginal Effets table reports AMEs, standard error, z-values, p-values and 95% confidence intervals. \n",
    "#The interpretation of AMEs is similar to linear models. \n",
    "#For example, the AME value of Hcy is 0.2770 which can be interpreted as a unit increase in Hcy value (one standard deviation) increases the probability of having ADHD by 27.70%."
   ]
  },
  {
   "cell_type": "code",
   "execution_count": 198,
   "metadata": {},
   "outputs": [],
   "source": [
    "results=AME.summary()\n",
    "results_text2 = results.as_csv()\n",
    "\n",
    "import csv\n",
    "resultFile = open(\"C:/Users/vitomir.jovanovic.COP/Desktop/ADHD/rezultati logit modeli/AME_only_bio\",'w')\n",
    "resultFile.write(results_text2)\n",
    "resultFile.close()"
   ]
  },
  {
   "cell_type": "code",
   "execution_count": 125,
   "metadata": {},
   "outputs": [
    {
     "name": "stdout",
     "output_type": "stream",
     "text": [
      "Accuracy: 0.70%\n"
     ]
    }
   ],
   "source": [
    "accuracy = accuracy_score(y_actual, y_prediction)\n",
    "print('Accuracy: %.2f' % accuracy + \"%\")"
   ]
  },
  {
   "cell_type": "code",
   "execution_count": 126,
   "metadata": {},
   "outputs": [
    {
     "name": "stdout",
     "output_type": "stream",
     "text": [
      "              precision    recall  f1-score   support\n",
      "\n",
      "           0       0.67      0.40      0.50        10\n",
      "           1       0.71      0.88      0.79        17\n",
      "\n",
      "    accuracy                           0.70        27\n",
      "   macro avg       0.69      0.64      0.64        27\n",
      "weighted avg       0.70      0.70      0.68        27\n",
      "\n"
     ]
    }
   ],
   "source": [
    "print(classification_report(y_actual, y_prediction))"
   ]
  },
  {
   "cell_type": "code",
   "execution_count": 127,
   "metadata": {},
   "outputs": [
    {
     "name": "stdout",
     "output_type": "stream",
     "text": [
      "F1 Score: 0.7894736842105262\n"
     ]
    }
   ],
   "source": [
    "from sklearn.metrics import f1_score\n",
    "print(\"F1 Score: {}\".format(f1_score(y_actual, y_prediction)))"
   ]
  },
  {
   "cell_type": "code",
   "execution_count": 128,
   "metadata": {},
   "outputs": [
    {
     "name": "stdout",
     "output_type": "stream",
     "text": [
      "AUC: 0.64%\n"
     ]
    }
   ],
   "source": [
    "\n",
    "roc_auc = roc_auc_score(y_actual, y_prediction)\n",
    "print('AUC: %.2f' % roc_auc + \"%\")"
   ]
  },
  {
   "cell_type": "code",
   "execution_count": 133,
   "metadata": {},
   "outputs": [],
   "source": [
    "from plot_metric.functions import BinaryClassification"
   ]
  },
  {
   "cell_type": "code",
   "execution_count": 171,
   "metadata": {},
   "outputs": [
    {
     "data": {
      "text/plain": [
       "Index(['redni broj', 'glu', 'fe', 'feritin', 'Hcy', 'TSH', 'FT4', 'b12',\n",
       "       'vitamin_d', 'theta_beta_ratio', 'theta mean', 'low alpha',\n",
       "       'high alpha', 'alpha mean', 'smr mean', 'beta 1 mean', 'beta 2 mean',\n",
       "       'beta 3mean', 'adhd_skor', 'adhd_(roditelj)', 'trog_II', 'arq_dtj',\n",
       "       'dyslexia_r', 'iqv', 'iqnv', 'iqt', 'dijagnoza'],\n",
       "      dtype='object')"
      ]
     },
     "execution_count": 171,
     "metadata": {},
     "output_type": "execute_result"
    }
   ],
   "source": [
    "df_feat.columns"
   ]
  },
  {
   "cell_type": "code",
   "execution_count": 170,
   "metadata": {
    "scrolled": true
   },
   "outputs": [
    {
     "data": {
      "text/plain": [
       "(array([0. , 0.6, 1. ]),\n",
       " array([0.        , 0.88235294, 1.        ]),\n",
       " array([2, 1, 0]),\n",
       " 0.6411764705882352)"
      ]
     },
     "execution_count": 170,
     "metadata": {},
     "output_type": "execute_result"
    },
    {
     "data": {
      "image/png": "[encoded data removed]",
      "text/plain": [
       "<Figure size 432x288 with 1 Axes>"
      ]
     },
     "metadata": {},
     "output_type": "display_data"
    }
   ],
   "source": [
    "# Visualisation with plot_metric\n",
    "bc = BinaryClassification(y_actual,\n",
    "                          y_prediction,\n",
    "                          labels = [\"Class 1\", \"Class 2\"])\n",
    "\n",
    "# Figures\n",
    "\n",
    "bc.plot_roc_curve()"
   ]
  },
  {
   "cell_type": "code",
   "execution_count": 174,
   "metadata": {},
   "outputs": [
    {
     "name": "stdout",
     "output_type": "stream",
     "text": [
      "Optimization terminated successfully.\n",
      "         Current function value: 0.152172\n",
      "         Iterations 10\n"
     ]
    }
   ],
   "source": [
    "#Sada pravimo novi potpuni model za predikciju ADHD gde osim bioloskih ubacujemo i psiholoske prediktore\n",
    "formula1 = ('dijagnoza ~ fe + feritin + Hcy + TSH + FT4 + b12 + vitamin_d + theta_beta_ratio + adhd_skor + arq_dtj + trog_II + iqv + iqnv + iqt')\n",
    "model1 = logit(formula = formula1, data = train_data).fit()"
   ]
  },
  {
   "cell_type": "code",
   "execution_count": 175,
   "metadata": {
    "scrolled": true
   },
   "outputs": [
    {
     "data": {
      "text/html": [
       "<table class=\"simpletable\">\n",
       "<caption>Logit Regression Results</caption>\n",
       "<tr>\n",
       "  <th>Dep. Variable:</th>       <td>dijagnoza</td>    <th>  No. Observations:  </th>  <td>   107</td>  \n",
       "</tr>\n",
       "<tr>\n",
       "  <th>Model:</th>                 <td>Logit</td>      <th>  Df Residuals:      </th>  <td>    92</td>  \n",
       "</tr>\n",
       "<tr>\n",
       "  <th>Method:</th>                 <td>MLE</td>       <th>  Df Model:          </th>  <td>    14</td>  \n",
       "</tr>\n",
       "<tr>\n",
       "  <th>Date:</th>            <td>Fri, 26 Jun 2020</td> <th>  Pseudo R-squ.:     </th>  <td>0.7801</td>  \n",
       "</tr>\n",
       "<tr>\n",
       "  <th>Time:</th>                <td>14:37:59</td>     <th>  Log-Likelihood:    </th> <td> -16.282</td> \n",
       "</tr>\n",
       "<tr>\n",
       "  <th>converged:</th>             <td>True</td>       <th>  LL-Null:           </th> <td> -74.050</td> \n",
       "</tr>\n",
       "<tr>\n",
       "  <th>Covariance Type:</th>     <td>nonrobust</td>    <th>  LLR p-value:       </th> <td>4.692e-18</td>\n",
       "</tr>\n",
       "</table>\n",
       "<table class=\"simpletable\">\n",
       "<tr>\n",
       "          <td></td>            <th>coef</th>     <th>std err</th>      <th>z</th>      <th>P>|z|</th>  <th>[0.025</th>    <th>0.975]</th>  \n",
       "</tr>\n",
       "<tr>\n",
       "  <th>Intercept</th>        <td>   -0.7506</td> <td>    0.841</td> <td>   -0.893</td> <td> 0.372</td> <td>   -2.398</td> <td>    0.897</td>\n",
       "</tr>\n",
       "<tr>\n",
       "  <th>fe</th>               <td>    0.9434</td> <td>    0.673</td> <td>    1.402</td> <td> 0.161</td> <td>   -0.375</td> <td>    2.262</td>\n",
       "</tr>\n",
       "<tr>\n",
       "  <th>feritin</th>          <td>    0.0090</td> <td>    0.625</td> <td>    0.014</td> <td> 0.989</td> <td>   -1.217</td> <td>    1.235</td>\n",
       "</tr>\n",
       "<tr>\n",
       "  <th>Hcy</th>              <td>    3.3532</td> <td>    1.007</td> <td>    3.331</td> <td> 0.001</td> <td>    1.380</td> <td>    5.326</td>\n",
       "</tr>\n",
       "<tr>\n",
       "  <th>TSH</th>              <td>   -0.3000</td> <td>    0.533</td> <td>   -0.563</td> <td> 0.574</td> <td>   -1.345</td> <td>    0.745</td>\n",
       "</tr>\n",
       "<tr>\n",
       "  <th>FT4</th>              <td>    0.8975</td> <td>    0.715</td> <td>    1.256</td> <td> 0.209</td> <td>   -0.503</td> <td>    2.298</td>\n",
       "</tr>\n",
       "<tr>\n",
       "  <th>b12</th>              <td>   -0.8800</td> <td>    0.565</td> <td>   -1.557</td> <td> 0.120</td> <td>   -1.988</td> <td>    0.228</td>\n",
       "</tr>\n",
       "<tr>\n",
       "  <th>vitamin_d</th>        <td>   -0.0795</td> <td>    0.497</td> <td>   -0.160</td> <td> 0.873</td> <td>   -1.055</td> <td>    0.896</td>\n",
       "</tr>\n",
       "<tr>\n",
       "  <th>theta_beta_ratio</th> <td>    1.5029</td> <td>    0.670</td> <td>    2.244</td> <td> 0.025</td> <td>    0.190</td> <td>    2.815</td>\n",
       "</tr>\n",
       "<tr>\n",
       "  <th>adhd_skor</th>        <td>    4.2922</td> <td>    1.481</td> <td>    2.898</td> <td> 0.004</td> <td>    1.390</td> <td>    7.195</td>\n",
       "</tr>\n",
       "<tr>\n",
       "  <th>arq_dtj</th>          <td>    0.6229</td> <td>    0.948</td> <td>    0.657</td> <td> 0.511</td> <td>   -1.235</td> <td>    2.481</td>\n",
       "</tr>\n",
       "<tr>\n",
       "  <th>trog_II</th>          <td>   -0.9065</td> <td>    0.839</td> <td>   -1.080</td> <td> 0.280</td> <td>   -2.551</td> <td>    0.738</td>\n",
       "</tr>\n",
       "<tr>\n",
       "  <th>iqv</th>              <td>    0.7843</td> <td>    1.862</td> <td>    0.421</td> <td> 0.674</td> <td>   -2.866</td> <td>    4.434</td>\n",
       "</tr>\n",
       "<tr>\n",
       "  <th>iqnv</th>             <td>    0.1019</td> <td>    1.498</td> <td>    0.068</td> <td> 0.946</td> <td>   -2.834</td> <td>    3.038</td>\n",
       "</tr>\n",
       "<tr>\n",
       "  <th>iqt</th>              <td>    0.0381</td> <td>    2.593</td> <td>    0.015</td> <td> 0.988</td> <td>   -5.044</td> <td>    5.120</td>\n",
       "</tr>\n",
       "</table><br/><br/>Possibly complete quasi-separation: A fraction 0.21 of observations can be<br/>perfectly predicted. This might indicate that there is complete<br/>quasi-separation. In this case some parameters will not be identified."
      ],
      "text/plain": [
       "<class 'statsmodels.iolib.summary.Summary'>\n",
       "\"\"\"\n",
       "                           Logit Regression Results                           \n",
       "==============================================================================\n",
       "Dep. Variable:              dijagnoza   No. Observations:                  107\n",
       "Model:                          Logit   Df Residuals:                       92\n",
       "Method:                           MLE   Df Model:                           14\n",
       "Date:                Fri, 26 Jun 2020   Pseudo R-squ.:                  0.7801\n",
       "Time:                        14:37:59   Log-Likelihood:                -16.282\n",
       "converged:                       True   LL-Null:                       -74.050\n",
       "Covariance Type:            nonrobust   LLR p-value:                 4.692e-18\n",
       "====================================================================================\n",
       "                       coef    std err          z      P>|z|      [0.025      0.975]\n",
       "------------------------------------------------------------------------------------\n",
       "Intercept           -0.7506      0.841     -0.893      0.372      -2.398       0.897\n",
       "fe                   0.9434      0.673      1.402      0.161      -0.375       2.262\n",
       "feritin              0.0090      0.625      0.014      0.989      -1.217       1.235\n",
       "Hcy                  3.3532      1.007      3.331      0.001       1.380       5.326\n",
       "TSH                 -0.3000      0.533     -0.563      0.574      -1.345       0.745\n",
       "FT4                  0.8975      0.715      1.256      0.209      -0.503       2.298\n",
       "b12                 -0.8800      0.565     -1.557      0.120      -1.988       0.228\n",
       "vitamin_d           -0.0795      0.497     -0.160      0.873      -1.055       0.896\n",
       "theta_beta_ratio     1.5029      0.670      2.244      0.025       0.190       2.815\n",
       "adhd_skor            4.2922      1.481      2.898      0.004       1.390       7.195\n",
       "arq_dtj              0.6229      0.948      0.657      0.511      -1.235       2.481\n",
       "trog_II             -0.9065      0.839     -1.080      0.280      -2.551       0.738\n",
       "iqv                  0.7843      1.862      0.421      0.674      -2.866       4.434\n",
       "iqnv                 0.1019      1.498      0.068      0.946      -2.834       3.038\n",
       "iqt                  0.0381      2.593      0.015      0.988      -5.044       5.120\n",
       "====================================================================================\n",
       "\n",
       "Possibly complete quasi-separation: A fraction 0.21 of observations can be\n",
       "perfectly predicted. This might indicate that there is complete\n",
       "quasi-separation. In this case some parameters will not be identified.\n",
       "\"\"\""
      ]
     },
     "execution_count": 175,
     "metadata": {},
     "output_type": "execute_result"
    }
   ],
   "source": [
    "results1=model1.summary()\n",
    "results1"
   ]
  },
  {
   "cell_type": "code",
   "execution_count": 183,
   "metadata": {},
   "outputs": [],
   "source": [
    "results_text1 = results1.as_csv()\n",
    "\n",
    "import csv\n",
    "resultFile = open(\"C:/Users/vitomir.jovanovic.COP/Desktop/ADHD/rezultati logit modeli/eksel_table_adhd_all\",'w')\n",
    "resultFile.write(results_text1)\n",
    "resultFile.close()"
   ]
  },
  {
   "cell_type": "code",
   "execution_count": 184,
   "metadata": {},
   "outputs": [
    {
     "name": "stdout",
     "output_type": "stream",
     "text": [
      "Predicted  0   1  All\n",
      "Actual               \n",
      "0          7   3   10\n",
      "1          2  15   17\n",
      "All        9  18   27\n"
     ]
    }
   ],
   "source": [
    "# Compute prediction\n",
    "prediction = model1.predict(exog = test_data)\n",
    "\n",
    "\n",
    "\n",
    "# Define the cutoff\n",
    "cutoff = 0.5\n",
    "\n",
    "# Compute class predictions: y_prediction\n",
    "y_prediction = np.where(prediction > cutoff, 1, 0)\n",
    "\n",
    "# Assign actual class labels from the test sample to y_actual\n",
    "y_actual = test_data[\"dijagnoza\"]\n",
    "\n",
    "\n",
    "# Compute and print confusion matrix using crosstab function\n",
    "conf_matrix = pd.crosstab(y_actual, y_prediction,\n",
    "                       rownames = [\"Actual\"], \n",
    "                       colnames = [\"Predicted\"], \n",
    "                       margins = True)\n",
    "                      \n",
    "# Print the confusion matrix\n",
    "print(conf_matrix)"
   ]
  },
  {
   "cell_type": "code",
   "execution_count": 192,
   "metadata": {},
   "outputs": [
    {
     "data": {
      "text/plain": [
       "Intercept            0.472067\n",
       "fe                   2.568623\n",
       "feritin              1.009040\n",
       "Hcy                 28.593274\n",
       "TSH                  0.740819\n",
       "FT4                  2.453382\n",
       "b12                  0.414784\n",
       "vitamin_d            0.923549\n",
       "theta_beta_ratio     4.494611\n",
       "adhd_skor           73.125799\n",
       "arq_dtj              1.864292\n",
       "trog_II              0.403952\n",
       "iqv                  2.190830\n",
       "iqnv                 1.107320\n",
       "iqt                  1.038848\n",
       "dtype: float64"
      ]
     },
     "execution_count": 192,
     "metadata": {},
     "output_type": "execute_result"
    }
   ],
   "source": [
    "odd_ratio_adhd_all = np.exp(model1.params)\n",
    "odd_ratio_adhd_all.to_excel('C:/Users/vitomir.jovanovic.COP/Desktop/ADHD/rezultati logit modeli/odd_ratio_adhd_all.xls')\n",
    "odd_ratio_adhd_all"
   ]
  },
  {
   "cell_type": "code",
   "execution_count": 200,
   "metadata": {},
   "outputs": [
    {
     "name": "stdout",
     "output_type": "stream",
     "text": [
      "        Logit Marginal Effects       \n",
      "=====================================\n",
      "Dep. Variable:              dijagnoza\n",
      "Method:                          dydx\n",
      "At:                           overall\n",
      "====================================================================================\n",
      "                      dy/dx    std err          z      P>|z|      [0.025      0.975]\n",
      "------------------------------------------------------------------------------------\n",
      "fe                   0.0428      0.029      1.460      0.144      -0.015       0.100\n",
      "feritin              0.0004      0.028      0.014      0.989      -0.055       0.056\n",
      "Hcy                  0.1522      0.031      4.954      0.000       0.092       0.212\n",
      "TSH                 -0.0136      0.024     -0.572      0.567      -0.060       0.033\n",
      "FT4                  0.0407      0.031      1.328      0.184      -0.019       0.101\n",
      "b12                 -0.0399      0.024     -1.662      0.096      -0.087       0.007\n",
      "vitamin_d           -0.0036      0.023     -0.160      0.873      -0.048       0.041\n",
      "theta_beta_ratio     0.0682      0.027      2.549      0.011       0.016       0.121\n",
      "adhd_skor            0.1948      0.052      3.727      0.000       0.092       0.297\n",
      "arq_dtj              0.0283      0.042      0.669      0.503      -0.055       0.111\n",
      "trog_II             -0.0411      0.038     -1.084      0.279      -0.116       0.033\n",
      "iqv                  0.0356      0.084      0.426      0.670      -0.128       0.199\n",
      "iqnv                 0.0046      0.068      0.068      0.946      -0.128       0.138\n",
      "iqt                  0.0017      0.118      0.015      0.988      -0.229       0.232\n",
      "====================================================================================\n"
     ]
    }
   ],
   "source": [
    "AME1 = model1.get_margeff(at='overall', method='dydx')\n",
    "print(AME1.summary())"
   ]
  },
  {
   "cell_type": "code",
   "execution_count": 202,
   "metadata": {},
   "outputs": [],
   "source": [
    "results1=AME1.summary()\n",
    "results_text2 = results1.as_csv()\n",
    "\n",
    "import csv\n",
    "resultFile = open(\"C:/Users/vitomir.jovanovic.COP/Desktop/ADHD/rezultati logit modeli/AME_all\",'w')\n",
    "resultFile.write(results_text2)\n",
    "resultFile.close()"
   ]
  },
  {
   "cell_type": "code",
   "execution_count": 185,
   "metadata": {},
   "outputs": [
    {
     "name": "stdout",
     "output_type": "stream",
     "text": [
      "F1 Score: 0.8571428571428571\n"
     ]
    }
   ],
   "source": [
    "from sklearn.metrics import f1_score\n",
    "print(\"F1 Score: {}\".format(f1_score(y_actual, y_prediction)))"
   ]
  },
  {
   "cell_type": "code",
   "execution_count": 187,
   "metadata": {},
   "outputs": [
    {
     "name": "stdout",
     "output_type": "stream",
     "text": [
      "AUC: 0.79%\n"
     ]
    }
   ],
   "source": [
    "roc_auc = roc_auc_score(y_actual, y_prediction)\n",
    "print('AUC: %.2f' % roc_auc + \"%\")"
   ]
  },
  {
   "cell_type": "code",
   "execution_count": 188,
   "metadata": {},
   "outputs": [
    {
     "data": {
      "text/plain": [
       "(array([0. , 0.3, 1. ]),\n",
       " array([0.        , 0.88235294, 1.        ]),\n",
       " array([2, 1, 0]),\n",
       " 0.7911764705882353)"
      ]
     },
     "execution_count": 188,
     "metadata": {},
     "output_type": "execute_result"
    },
    {
     "data": {
      "image/png": "[encoded data removed]",
      "text/plain": [
       "<Figure size 432x288 with 1 Axes>"
      ]
     },
     "metadata": {},
     "output_type": "display_data"
    }
   ],
   "source": [
    "# Visualisation with plot_metric\n",
    "bc = BinaryClassification(y_actual,\n",
    "                          y_prediction,\n",
    "                          labels = [\"Class 1\", \"Class 2\"])\n",
    "\n",
    "# Figures\n",
    "\n",
    "bc.plot_roc_curve()"
   ]
  }
 ],
 "metadata": {
  "kernelspec": {
   "display_name": "Python 3",
   "language": "python",
   "name": "python3"
  },
  "language_info": {
   "codemirror_mode": {
    "name": "ipython",
    "version": 3
   },
   "file_extension": ".py",
   "mimetype": "text/x-python",
   "name": "python",
   "nbconvert_exporter": "python",
   "pygments_lexer": "ipython3",
   "version": "3.7.6"
  }
 },
 "nbformat": 4,
 "nbformat_minor": 4
}
